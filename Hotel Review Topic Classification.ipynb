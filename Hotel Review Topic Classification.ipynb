{
 "cells": [
  {
   "cell_type": "markdown",
   "metadata": {},
   "source": [
    "# Happy Hotel Code Challenge"
   ]
  },
  {
   "cell_type": "markdown",
   "metadata": {},
   "source": [
    "In this project, we are given hotel reviews as a free text form. The data is semi-labeled, as we know whether a review is a good/positive or bad/negative. This is a chain hotel with many branches and each branch wanted to know their good/bad attributes and would focus on improving. Since there is over 20 thousand reviews and each hotel may be reviewed differntly on different categories. Knowing the worst attributes of hotel branches is critical since the general management will create working groups and each branch will send representatives to work groups based on the area they need to improve. \n",
    "\n",
    "I will try to categorize the user reviews into multiple groups. After the categorization, I will evaluate the overall response for individual hotels to see which categories there could be improvements."
   ]
  },
  {
   "cell_type": "markdown",
   "metadata": {},
   "source": [
    "### Load Packages"
   ]
  },
  {
   "cell_type": "code",
   "execution_count": 131,
   "metadata": {},
   "outputs": [
    {
     "name": "stderr",
     "output_type": "stream",
     "text": [
      "/Users/apple/anaconda3/lib/python3.7/site-packages/ipykernel/ipkernel.py:287: DeprecationWarning: `should_run_async` will not call `transform_cell` automatically in the future. Please pass the result to `transformed_cell` argument and any exception that happen during thetransform in `preprocessing_exc_tuple` in IPython 7.17 and above.\n",
      "  and should_run_async(code)\n",
      "[nltk_data] Downloading package stopwords to /Users/apple/nltk_data...\n",
      "[nltk_data]   Package stopwords is already up-to-date!\n"
     ]
    }
   ],
   "source": [
    "from nltk.corpus import stopwords \n",
    "from nltk.stem.wordnet import WordNetLemmatizer\n",
    "import string\n",
    "import pandas as pd\n",
    "import gensim\n",
    "from gensim import corpora\n",
    "import numpy as np\n",
    "import nltk\n",
    "nltk.download('stopwords')\n",
    "import warnings\n",
    "warnings.filterwarnings('ignore')\n"
   ]
  },
  {
   "cell_type": "markdown",
   "metadata": {},
   "source": [
    "### Load The Reviews "
   ]
  },
  {
   "cell_type": "code",
   "execution_count": 171,
   "metadata": {},
   "outputs": [],
   "source": [
    "good=pd.read_csv('good.csv')\n",
    "bad=pd.read_csv('bad.csv')"
   ]
  },
  {
   "cell_type": "code",
   "execution_count": 172,
   "metadata": {},
   "outputs": [
    {
     "name": "stdout",
     "output_type": "stream",
     "text": [
      "<class 'pandas.core.frame.DataFrame'>\n",
      "RangeIndex: 26521 entries, 0 to 26520\n",
      "Data columns (total 4 columns):\n",
      " #   Column       Non-Null Count  Dtype \n",
      "---  ------       --------------  ----- \n",
      " 0   User_ID      26521 non-null  object\n",
      " 1   Description  26521 non-null  object\n",
      " 2   Is_Response  26521 non-null  object\n",
      " 3   hotel_ID     26521 non-null  int64 \n",
      "dtypes: int64(1), object(3)\n",
      "memory usage: 828.9+ KB\n"
     ]
    }
   ],
   "source": [
    "good.info()"
   ]
  },
  {
   "cell_type": "code",
   "execution_count": 173,
   "metadata": {},
   "outputs": [
    {
     "name": "stdout",
     "output_type": "stream",
     "text": [
      "Are entries unique?\n"
     ]
    },
    {
     "data": {
      "text/plain": [
       "True"
      ]
     },
     "execution_count": 173,
     "metadata": {},
     "output_type": "execute_result"
    }
   ],
   "source": [
    "# Checking for replicate reviews by looking a specific user_id's \n",
    "# in case there are problems with the database\n",
    "print('Are entries unique?')\n",
    "good.User_ID.nunique() == good.shape[0]"
   ]
  },
  {
   "cell_type": "code",
   "execution_count": 174,
   "metadata": {},
   "outputs": [
    {
     "name": "stdout",
     "output_type": "stream",
     "text": [
      "<class 'pandas.core.frame.DataFrame'>\n",
      "RangeIndex: 12411 entries, 0 to 12410\n",
      "Data columns (total 4 columns):\n",
      " #   Column       Non-Null Count  Dtype \n",
      "---  ------       --------------  ----- \n",
      " 0   User_ID      12411 non-null  object\n",
      " 1   Description  12411 non-null  object\n",
      " 2   Is_Response  12411 non-null  object\n",
      " 3   hotel_ID     12411 non-null  int64 \n",
      "dtypes: int64(1), object(3)\n",
      "memory usage: 388.0+ KB\n"
     ]
    }
   ],
   "source": [
    "# Checking for replicate reviews by looking a specific user_id's \n",
    "# in case there are problems with the database\n",
    "bad.info()"
   ]
  },
  {
   "cell_type": "code",
   "execution_count": 175,
   "metadata": {},
   "outputs": [
    {
     "name": "stdout",
     "output_type": "stream",
     "text": [
      "Is entries unique?\n"
     ]
    },
    {
     "data": {
      "text/plain": [
       "True"
      ]
     },
     "execution_count": 175,
     "metadata": {},
     "output_type": "execute_result"
    }
   ],
   "source": [
    "# Checking for replicate reviews by looking a specific user_id's \n",
    "# in case there are problems with the database\n",
    "print('Is entries unique?')\n",
    "bad.User_ID.nunique() == bad.shape[0]"
   ]
  },
  {
   "cell_type": "markdown",
   "metadata": {},
   "source": [
    "Looking at some example reviews to have an understanding of the dataset, type of reviews and grammar/typo error levels. "
   ]
  },
  {
   "cell_type": "code",
   "execution_count": 176,
   "metadata": {},
   "outputs": [
    {
     "data": {
      "text/plain": [
       "'Stayed here with husband and sons on the way to an Alaska Cruise. We all loved the hotel, great experience. Ask for a room on the North tower, facing north west for the best views. We had a high floor, with a stunning view of the needle, the city, and even the cruise ships! We ordered room service for dinner so we could enjoy the perfect views. Room service dinners were delicious, too! You are in a perfect spot to walk everywhere, so enjoy the city. Almost forgot- Heavenly beds were heavenly, too!'"
      ]
     },
     "execution_count": 176,
     "metadata": {},
     "output_type": "execute_result"
    }
   ],
   "source": [
    "good.Description[0]"
   ]
  },
  {
   "cell_type": "code",
   "execution_count": 177,
   "metadata": {},
   "outputs": [
    {
     "data": {
      "text/plain": [
       "\"The room was kind of clean but had a VERY strong smell of dogs. Generally below average but ok for a overnight stay if you're not too fussy. Would consider staying again if the price was right. Breakfast was free and just about better than nothing.\""
      ]
     },
     "execution_count": 177,
     "metadata": {},
     "output_type": "execute_result"
    }
   ],
   "source": [
    "bad.Description[0]"
   ]
  },
  {
   "cell_type": "markdown",
   "metadata": {},
   "source": [
    "## What is LDA: Latent Dirichlet Allocation? \n",
    "\n",
    "LDA is a topic model that generates topics based on word frequency from a set of documents. It is based on the assumption that there are limited/few topics in the documents. \n",
    "\n",
    "Each document may consists of multiple topics and each topic is governed by frequent use of subset of words.\n",
    "\n",
    "LDA is able to return the documents that belong to a topic in corpus and the words that belong to a topic. It is based on probabilistic graphical modeling. It takes input a bag of words and produces 2 smaller matrix: - document to topic matrix, - word to topic matrix. When these are multiplied together, they produce the bag of words with the lowest error. "
   ]
  },
  {
   "cell_type": "markdown",
   "metadata": {},
   "source": [
    "I will use an LDA analysis to categorize the reviews into different groups. To be able to work with text, words need to be vectorized. However the text needs to be removed from punctuation, words need to be lemmatized (roots of the words are needed) and for simplicity everything is turned into lower case. For that, \"clean\" function is written which does all these. "
   ]
  },
  {
   "cell_type": "code",
   "execution_count": 178,
   "metadata": {},
   "outputs": [],
   "source": [
    "finish = set(stopwords.words('english'))\n",
    "punc = set(string.punctuation) \n",
    "lemma = WordNetLemmatizer()\n",
    "def clean(review):\n",
    "    #remove stop words\n",
    "    stop_free = \" \".join([i for i in review.lower().split() if i not in finish])\n",
    "    # remove punctuation\n",
    "    punc_free = ''.join(ch for ch in stop_free if ch not in punc)\n",
    "    # lemmatize\n",
    "    normalized = \" \".join(lemma.lemmatize(word) for word in punc_free.split())\n",
    "    return normalized"
   ]
  },
  {
   "cell_type": "code",
   "execution_count": 179,
   "metadata": {},
   "outputs": [],
   "source": [
    "# Apply clean function to both good and bad reviews\n",
    "good_cleaned = [clean(review).split() for review in good.Description]  \n",
    "bad_cleaned = [clean(review).split() for review in bad.Description]     "
   ]
  },
  {
   "cell_type": "code",
   "execution_count": 180,
   "metadata": {},
   "outputs": [],
   "source": [
    "# Combine all the reviews for processing, since both good and bad reviews are expected to share same categories. \n",
    "all_reviews= good_cleaned + bad_cleaned"
   ]
  },
  {
   "cell_type": "code",
   "execution_count": 181,
   "metadata": {},
   "outputs": [],
   "source": [
    "#review_batch1= all_reviews[0:int(8*len(all_reviews)/10)]"
   ]
  },
  {
   "cell_type": "code",
   "execution_count": 182,
   "metadata": {},
   "outputs": [],
   "source": [
    "# Creating the term dictionary of our corpus, where every unique term is assigned an index.\n",
    "# Dictionary has the list of unique words\n",
    "dictionary = corpora.Dictionary(all_reviews)\n",
    "\n",
    "# Converting list of documents (corpus) into Term Matrix using dictionary prepared above.\n",
    "# Every row is a document, and every column is a word\n",
    "term_matrix = [dictionary.doc2bow(review) for review in all_reviews]"
   ]
  },
  {
   "cell_type": "code",
   "execution_count": 144,
   "metadata": {},
   "outputs": [],
   "source": [
    "# Creating the object for LDA model using gensim library\n",
    "Lda = gensim.models.ldamodel.LdaModel"
   ]
  },
  {
   "cell_type": "code",
   "execution_count": 167,
   "metadata": {},
   "outputs": [],
   "source": [
    "# Running and Trainign LDA model on the document term matrix.\n",
    "ldamodel = Lda(term_matrix, num_topics=6, id2word = dictionary, passes=10)"
   ]
  },
  {
   "cell_type": "code",
   "execution_count": 168,
   "metadata": {},
   "outputs": [],
   "source": [
    "# Save model to disk because it takes time to rerun the algortihm.\n",
    "from gensim.test.utils import datapath\n",
    "ldamodel.save('6topic10pass.gensim')"
   ]
  },
  {
   "cell_type": "code",
   "execution_count": 145,
   "metadata": {},
   "outputs": [],
   "source": [
    "ldamodel = Lda.load('6topic10pass.gensim')"
   ]
  },
  {
   "cell_type": "code",
   "execution_count": 186,
   "metadata": {},
   "outputs": [],
   "source": [
    "#ldamodel.print_topics()"
   ]
  },
  {
   "cell_type": "markdown",
   "metadata": {},
   "source": [
    "## Topic Visualization\n",
    "\n",
    "Once the LDA model run, the words are sepereated into topics, and each topic is represented by the most relevant terms (words) in that topic. The model only groups the words together, interpretation should be done by the person who analysing the data. \n",
    "\n",
    "To visualize which groups have which words, "
   ]
  },
  {
   "cell_type": "code",
   "execution_count": 146,
   "metadata": {},
   "outputs": [],
   "source": [
    "import pyLDAvis.gensim_models"
   ]
  },
  {
   "cell_type": "code",
   "execution_count": 147,
   "metadata": {
    "scrolled": false
   },
   "outputs": [
    {
     "data": {
      "text/html": [
       "\n",
       "<link rel=\"stylesheet\" type=\"text/css\" href=\"https://cdn.jsdelivr.net/gh/bmabey/pyLDAvis@3.3.1/pyLDAvis/js/ldavis.v1.0.0.css\">\n",
       "\n",
       "\n",
       "<div id=\"ldavis_el146361130213635689422080998\"></div>\n",
       "<script type=\"text/javascript\">\n",
       "\n",
       "var ldavis_el146361130213635689422080998_data = {\"mdsDat\": {\"x\": [-0.07954022860275502, -0.05055966630418027, -0.05463656323911242, -0.09447987516308416, -0.021889215260455303, 0.30110554856958704], \"y\": [0.030551932563733095, 0.1275201801384439, -0.2048559638568846, 0.07554333757645978, -0.04174007501053422, 0.012980588588782442], \"topics\": [1, 2, 3, 4, 5, 6], \"cluster\": [1, 1, 1, 1, 1, 1], \"Freq\": [15.043586260585442, 17.205323012559294, 24.477451236034177, 14.816193586111433, 21.088804632296842, 7.368641272412814]}, \"tinfo\": {\"Term\": [\"breakfast\", \"hotel\", \"great\", \"coffee\", \"parking\", \"staff\", \"location\", \"square\", \"free\", \"service\", \"walk\", \"bathroom\", \"told\", \"pool\", \"nyc\", \"time\", \"water\", \"car\", \"good\", \"small\", \"block\", \"york\", \"area\", \"stay\", \"walking\", \"new\", \"suite\", \"street\", \"tv\", \"restaurant\", \"anniversary\", \"los\", \"angeles\", \"golf\", \"palomar\", \"gracious\", \"wheelchair\", \"celebrating\", \"impeccable\", \"poolside\", \"recieved\", \"celebration\", \"del\", \"astoria\", \"attendee\", \"magnolia\", \"drury\", \"phenomenal\", \"celebrity\", \"genuine\", \"jail\", \"biltmore\", \"dana\", \"laquinta\", \"hopkins\", \"paradise\", \"bahia\", \"mar\", \"cabin\", \"guestroom\", \"kodak\", \"kimpton\", \"memorable\", \"spa\", \"champagne\", \"resort\", \"welcomed\", \"celebrate\", \"outstanding\", \"wonderful\", \"beautiful\", \"wedding\", \"exceptional\", \"smile\", \"birthday\", \"love\", \"professional\", \"thank\", \"amazing\", \"hospitality\", \"service\", \"welcome\", \"favorite\", \"treat\", \"staff\", \"experience\", \"everyone\", \"year\", \"wine\", \"great\", \"loved\", \"always\", \"stay\", \"concierge\", \"friendly\", \"special\", \"best\", \"hotel\", \"family\", \"enjoyed\", \"bar\", \"suite\", \"weekend\", \"stayed\", \"excellent\", \"property\", \"made\", \"helpful\", \"feel\", \"u\", \"time\", \"restaurant\", \"well\", \"room\", \"make\", \"food\", \"trip\", \"every\", \"would\", \"location\", \"comfortable\", \"nice\", \"one\", \"place\", \"mall\", \"pier\", \"marina\", \"gaslamp\", \"gate\", \"universal\", \"pike\", \"remodel\", \"navy\", \"santa\", \"georgetown\", \"capitol\", \"stadium\", \"beale\", \"lumpy\", \"partying\", \"loop\", \"aloft\", \"dennys\", \"graceland\", \"golden\", \"\\u2022\", \"fame\", \"seaport\", \"elvis\", \"aquarium\", \"amtrak\", \"prudential\", \"coronado\", \"lombard\", \"dupont\", \"trolley\", \"museum\", \"beach\", \"garage\", \"bay\", \"shuttle\", \"hollywood\", \"market\", \"parking\", \"downtown\", \"airport\", \"rental\", \"metro\", \"drive\", \"car\", \"distance\", \"walking\", \"seattle\", \"mile\", \"harbor\", \"walk\", \"bus\", \"block\", \"within\", \"train\", \"convention\", \"diego\", \"north\", \"center\", \"easy\", \"close\", \"street\", \"restaurant\", \"park\", \"located\", \"hotel\", \"free\", \"san\", \"area\", \"across\", \"nice\", \"great\", \"location\", \"clean\", \"good\", \"right\", \"minute\", \"breakfast\", \"night\", \"place\", \"room\", \"stay\", \"day\", \"staff\", \"also\", \"stayed\", \"get\", \"would\", \"told\", \"rude\", \"credit\", \"waited\", \"happened\", \"informed\", \"mistake\", \"refund\", \"apology\", \"refused\", \"response\", \"cigarette\", \"policy\", \"trash\", \"eventually\", \"confirmation\", \"dump\", \"assured\", \"upset\", \"confirmed\", \"telling\", \"cancel\", \"message\", \"cash\", \"card\", \"unacceptable\", \"failed\", \"mildew\", \"sounded\", \"roach\", \"finally\", \"call\", \"nonsmoking\", \"called\", \"spoke\", \"later\", \"phone\", \"asked\", \"said\", \"someone\", \"smoking\", \"man\", \"key\", \"checked\", \"bug\", \"sorry\", \"clerk\", \"supposed\", \"charged\", \"left\", \"reservation\", \"manager\", \"let\", \"never\", \"pm\", \"another\", \"went\", \"desk\", \"u\", \"front\", \"am\", \"check\", \"arrived\", \"got\", \"came\", \"room\", \"back\", \"get\", \"would\", \"day\", \"night\", \"one\", \"could\", \"hotel\", \"even\", \"first\", \"time\", \"next\", \"stay\", \"people\", \"it\", \"like\", \"service\", \"square\", \"nyc\", \"york\", \"ny\", \"manhattan\", \"lift\", \"broadway\", \"empire\", \"fisherman\", \"penn\", \"midtown\", \"whilst\", \"madison\", \"affinia\", \"uk\", \"soho\", \"tidy\", \"jfk\", \"chelsea\", \"refurbishment\", \"regis\", \"hudson\", \"brilliant\", \"pod\", \"powell\", \"rockefeller\", \"tenderloin\", \"lexington\", \"fab\", \"yorker\", \"central\", \"subway\", \"macys\", \"union\", \"sq\", \"th\", \"new\", \"avenue\", \"diner\", \"sf\", \"state\", \"location\", \"time\", \"city\", \"hotel\", \"reception\", \"station\", \"st\", \"great\", \"good\", \"room\", \"clean\", \"small\", \"helpful\", \"staff\", \"stayed\", \"would\", \"stay\", \"walk\", \"night\", \"friendly\", \"street\", \"really\", \"bed\", \"floor\", \"price\", \"view\", \"place\", \"day\", \"worn\", \"dingy\", \"wallpaper\", \"poorly\", \"fixture\", \"speed\", \"furniture\", \"carpeting\", \"depressing\", \"rundown\", \"inconvenient\", \"exterior\", \"grout\", \"apologize\", \"chipped\", \"desperate\", \"rust\", \"lighting\", \"rug\", \"marriotts\", \"spray\", \"inadequate\", \"dorm\", \"gap\", \"soundproofing\", \"wired\", \"blowing\", \"nonexistent\", \"ancient\", \"pc\", \"outdated\", \"tile\", \"signal\", \"thin\", \"knocking\", \"temperature\", \"wall\", \"peeling\", \"equipment\", \"pressure\", \"ceiling\", \"paint\", \"hallway\", \"bathroom\", \"shower\", \"carpet\", \"renovation\", \"dark\", \"curtain\", \"tv\", \"ac\", \"mattress\", \"pro\", \"old\", \"tiny\", \"window\", \"internet\", \"room\", \"bed\", \"air\", \"lobby\", \"star\", \"small\", \"noise\", \"average\", \"nice\", \"floor\", \"like\", \"good\", \"hotel\", \"price\", \"better\", \"overall\", \"one\", \"bit\", \"need\", \"area\", \"much\", \"stayed\", \"clean\", \"night\", \"would\", \"location\", \"stay\", \"place\", \"service\", \"really\", \"staff\", \"egg\", \"fruit\", \"juice\", \"cereal\", \"bagel\", \"waffle\", \"toast\", \"muffin\", \"pastry\", \"bread\", \"dish\", \"pot\", \"yogurt\", \"sausage\", \"usd\", \"soda\", \"salad\", \"pancake\", \"bacon\", \"cream\", \"oatmeal\", \"chicken\", \"scrambled\", \"cooked\", \"drug\", \"stove\", \"hook\", \"damage\", \"refunded\", \"lodge\", \"maker\", \"cup\", \"coffee\", \"tea\", \"\\u2013\", \"microwave\", \"milk\", \"kitchen\", \"table\", \"plate\", \"fridge\", \"ice\", \"breakfast\", \"sofa\", \"snack\", \"bedroom\", \"machine\", \"hot\", \"kid\", \"water\", \"pool\", \"suite\", \"free\", \"living\", \"drink\", \"food\", \"fresh\", \"item\", \"two\", \"tv\", \"also\", \"area\", \"morning\", \"room\", \"bed\", \"day\", \"one\", \"small\", \"bar\", \"etc\", \"full\"], \"Freq\": [14086.0, 79960.0, 21538.0, 4907.0, 8740.0, 23651.0, 19238.0, 4714.0, 8404.0, 15621.0, 7932.0, 9921.0, 5008.0, 6725.0, 3448.0, 18076.0, 4679.0, 5225.0, 18437.0, 9881.0, 5480.0, 3026.0, 11437.0, 26352.0, 4956.0, 6528.0, 4869.0, 7418.0, 3882.0, 10567.0, 642.6226156652166, 382.5307787723211, 347.01222810397144, 298.4604463315513, 203.57986147549505, 202.37142476432928, 179.2943754887863, 151.14368820732236, 149.4067839339841, 150.03711242790826, 145.24170503886495, 138.26500237060063, 130.30437196428903, 125.61195835670067, 125.43505636870208, 116.87284182358745, 115.35317171744197, 113.37789129871405, 114.12127955790218, 111.58734044997045, 106.83523385229552, 102.0699698195129, 97.46143486073599, 94.97265277983098, 89.2493527666767, 87.2858717282917, 87.7867277850463, 83.8726979383225, 84.85209427755676, 81.24452757314656, 83.43735608127419, 618.7534997152245, 248.23256565239524, 1044.4858977361177, 311.92104839837253, 1321.8123094674986, 236.2356872949286, 268.7947431818793, 614.2337296726538, 2482.8272223178706, 2241.012127395288, 1060.249924469446, 397.79960004861925, 555.8561009307007, 679.3727513952948, 1197.6420456705014, 772.7254086262843, 697.5628235389133, 1308.9732733703909, 303.12541221922106, 7571.210509166737, 695.0525923820003, 448.1434954564218, 425.2608049733409, 9545.469561521244, 2547.728209114912, 990.484617534545, 2209.9079508007317, 1041.2986319204067, 7661.682124870476, 1226.3160822172858, 2005.3464136378045, 7801.357525121629, 1459.7999547438844, 3501.450952958598, 1162.472494603504, 2194.319283741951, 14230.93855475042, 1760.0752263000497, 1203.9001804071122, 2410.444077153039, 1944.0430299273012, 1688.338924666985, 3908.147381327332, 1769.6561320554306, 1597.7249247692178, 1942.9683786714522, 2322.0053670661864, 1565.1923202403984, 3188.4627601397597, 3564.4055128823657, 2689.890091625584, 2520.949061604299, 6357.357739111244, 1926.699019077723, 2004.9777870741236, 1824.018613878051, 1687.7713533168628, 2608.5004910464627, 2517.752187039298, 1935.198394586286, 2167.7432302504276, 2006.501647359292, 1910.818158688252, 1035.0129295094994, 525.9430675488597, 334.1319176275025, 331.93460889582576, 296.7931231868414, 276.46421635976645, 259.74018087597716, 212.5170718554032, 200.07800850077697, 198.3923363683915, 189.50408658479844, 189.08812428124358, 188.05968413994793, 178.16612838152705, 172.4209251672986, 163.33308466004985, 153.4230290271644, 152.20619060307507, 147.6099843234156, 137.55100834768052, 143.58885408469737, 134.08311562163868, 126.64200005019156, 121.72130664612803, 113.55681128979388, 109.46223553607489, 109.40362742001317, 106.57997127778417, 104.31546887568858, 100.66877807763423, 250.28030488328451, 526.0099412122526, 645.3450881510441, 1011.4505468105306, 1323.7719719106917, 894.6329341708389, 2405.7762316933195, 788.4539160865834, 1051.5483325590124, 7032.973427883542, 3405.641774876476, 3053.105800488576, 425.509502440414, 998.2098736607248, 998.3316948720035, 3955.5485919854523, 2469.5688362192536, 3652.8285640339873, 910.4210505691051, 1093.8435831401594, 571.0753599319834, 5138.3080473528435, 1496.6104828318237, 3616.372364581242, 2228.680534618944, 1123.410858657512, 1222.2784810916078, 1055.832992486199, 743.8404409482133, 2209.9216915323104, 2080.239109601482, 3630.7945973317787, 4078.4500221032185, 5013.3967857903635, 2552.3717937441897, 2185.612396824467, 18417.33508510608, 3764.1288184619907, 2329.7183354329477, 4498.858456447575, 1905.24727920718, 5092.794493915867, 6078.857213070109, 5562.1714336513105, 4586.174106223423, 5162.034898053098, 2756.0536121015316, 2731.5557473998074, 3937.5762481183297, 4803.184451366793, 3717.521559060505, 8096.870347664355, 4565.011307916786, 3311.7976071270496, 3809.3693824906077, 3015.1160649266535, 3151.8695221048506, 2969.8625132958095, 3124.0915385559247, 5007.950890419647, 1266.2808660022276, 1040.241493549098, 680.6223333614146, 532.6144221399728, 600.097582452819, 444.22022985263254, 420.6198117565249, 387.9719967188102, 338.7697775597921, 335.4428226011398, 330.45257893097335, 323.0968747045927, 315.75738230206656, 312.3412623122146, 287.29621525482736, 268.02284398537046, 248.7513603940336, 245.53169217653337, 240.25483234381082, 239.080963048879, 227.36230169561097, 218.25241150424168, 213.4387656741997, 1738.6423347727189, 206.54116761558655, 206.9624307480464, 205.30933549838045, 202.08549218103823, 195.81544716143875, 1442.1232795510102, 2995.1970836132837, 447.0979840426484, 3339.9810924954427, 385.344748519313, 1497.2984676094889, 1691.6172081015127, 3572.0388269548253, 3790.528019919254, 1744.7928786633308, 603.9046961012764, 790.2967430475736, 1369.839154163493, 2676.267957909988, 727.9012083879103, 485.6419727923047, 983.0571053156019, 513.571747344763, 1088.4003819071797, 2670.006374129962, 1998.8352675799763, 2320.544299122736, 1468.19606740886, 3691.10627855036, 2084.6181125799835, 3018.4344456869626, 3429.8587332894017, 6396.977826305837, 7948.648174997826, 5714.134739572093, 1807.6229790342059, 3383.762788412814, 2288.7504696665283, 4023.972953509111, 1946.2169284311062, 21540.176526034877, 4570.655907558093, 5830.254748343015, 7440.920501448892, 5555.130237190267, 7198.832933522321, 6575.76235276454, 4538.672155475031, 12945.782891869409, 3695.780969062789, 3242.4052782481717, 5021.933388622338, 3307.261812184901, 5329.4460147194395, 2876.926454264186, 3027.533320721302, 3256.696911502991, 3186.2944236655326, 4713.317057189004, 3447.222580206714, 3025.421796718301, 1562.7238142268984, 1156.1088414281976, 871.6821054814129, 636.6269176976405, 604.2723689024499, 602.9427998854309, 532.8997791778392, 502.63327800823583, 390.5169283904523, 322.8490598405937, 315.9291120333481, 286.0278968716357, 256.0628299200696, 239.62547037929795, 210.31569754389685, 191.73131820867732, 191.52783935751648, 186.0353890492021, 182.50316180442917, 178.7255420493873, 177.54323542349385, 167.0605324946842, 162.47778871827566, 158.85784927796698, 148.2413129976242, 139.3420672447735, 131.7817330339835, 2304.478899696067, 1870.1002545802392, 322.5282953333334, 1170.0063246358957, 261.63785739576724, 3639.937229421619, 3926.6027838729383, 777.3591661111067, 395.4590031551927, 632.7390830320703, 933.856972581192, 7257.864061314116, 6736.599879540201, 2668.4505554596553, 16863.166614077658, 1355.0784388621255, 1356.5660376984115, 970.201572675647, 5588.937971228013, 4961.388707905316, 13031.221272298968, 4013.9445046027035, 3091.1996254035284, 2534.744961276142, 5293.384892868213, 3741.1812726526296, 4115.170911297232, 4513.070101338434, 2311.5922310504357, 3745.749565760808, 2474.2294879335604, 2151.8600558533826, 2342.4731611906977, 2675.4765644504687, 2228.1163530855665, 2036.68960119325, 1964.7211331232434, 2084.459450732128, 2056.8440758772463, 869.5893760112616, 339.61087942055224, 336.52269165802494, 326.868072511613, 295.5265695630388, 277.0756990686467, 1217.2910540418825, 249.53283046820846, 178.1936879613421, 164.73804277728408, 162.65371406946957, 148.43414412235614, 142.88899285957618, 134.1834917783689, 127.33361648725833, 128.47546645994828, 121.14444063994542, 454.79682744981693, 115.42650416019477, 115.9021442364557, 114.2070199460056, 109.39274029725087, 101.59510542057735, 100.91306253959118, 95.91887043912554, 95.1448144793052, 91.78800171775679, 92.13737015464027, 87.10068251495842, 86.29523802200697, 571.6721884149815, 534.8529511475392, 196.35684777442216, 854.2675624697462, 115.93354233634483, 508.27259407356246, 2731.9844510293337, 342.019750828135, 303.15364827736505, 487.60104943576175, 665.6913781432336, 439.88137152283264, 1341.6827106632636, 6906.97827491189, 3525.2888045613686, 1677.1388618678939, 878.143511846751, 1153.454144056913, 603.1589147506115, 2725.5914075681767, 1066.5817052552866, 625.5567234762844, 480.9976520988083, 3240.4801419004025, 1211.259710568723, 2182.52344302417, 2321.569153475835, 27820.607505441312, 6826.924255900937, 1463.0440010077145, 3680.56601244311, 1670.6192310643437, 4630.535289511219, 2604.9161685763306, 1233.3598400512055, 6019.621515867687, 4077.884953977523, 4501.371198240753, 6504.9711627332135, 17478.892469514278, 3195.40372096705, 2450.250008664156, 1961.903440907809, 4936.094173828112, 2173.6236028201265, 2458.7988636492073, 3448.729943199988, 2625.88925742757, 3991.656472793123, 3748.4697895381573, 4426.975495673441, 4140.59696628505, 3891.0117291162956, 4134.914771213339, 3039.602713949071, 2970.5328638499755, 2659.195963812838, 2965.786833453082, 925.8337256722003, 828.2267823407167, 712.4615320900944, 652.0498303510396, 572.1342825499834, 567.6474940837334, 462.9727531455164, 421.1516925994428, 401.05923333143215, 381.37073531415854, 356.71278653654304, 329.4116005083908, 248.00937047686463, 227.7627983604495, 229.07001653996633, 221.01845589129664, 214.85396869689276, 209.60578841739067, 195.6777762311216, 194.87984178255024, 184.36724896621806, 184.5577306284053, 182.81606557483343, 180.25762649231524, 181.3901406568006, 163.39610846050581, 163.87100226900674, 160.55528960656181, 158.7441093092927, 141.1481952859324, 975.9364732103315, 767.2056355530522, 4329.425315564299, 808.1587383131351, 592.0431595337157, 990.991557609906, 370.2194419475414, 963.1831068548087, 1297.8104231280454, 369.1640243199205, 1180.506451153114, 728.7624622959272, 5533.690443090701, 542.0870104052588, 549.6486216261925, 943.3114009381044, 827.1585019193976, 1556.8495456048784, 1319.946729505323, 1927.1836562829346, 2070.3471384626046, 1656.8769404607044, 2213.245342235859, 584.2350426323043, 995.8701130775659, 1508.2080756111188, 692.2932598904115, 658.7048954048882, 1464.0212504702513, 1080.5223779725293, 1575.2258514725147, 1522.9452537913921, 1125.211413644897, 2391.6431451424705, 1452.6015499095622, 1418.8933287892048, 1412.4096250285327, 1037.4607397498407, 950.4986273112744, 868.8888811069878, 842.5577529611663], \"Total\": [14086.0, 79960.0, 21538.0, 4907.0, 8740.0, 23651.0, 19238.0, 4714.0, 8404.0, 15621.0, 7932.0, 9921.0, 5008.0, 6725.0, 3448.0, 18076.0, 4679.0, 5225.0, 18437.0, 9881.0, 5480.0, 3026.0, 11437.0, 26352.0, 4956.0, 6528.0, 4869.0, 7418.0, 3882.0, 10567.0, 643.4117057246906, 383.3241997694825, 347.80664394084727, 299.2484148270699, 204.36617808309327, 203.16378925741566, 180.11119960264566, 151.93265206851106, 150.19362902379555, 150.83500812533268, 146.04301535253802, 139.05514454743354, 131.10087131930376, 126.41407279344902, 126.23913055313537, 117.6612102380541, 116.14420770898741, 114.16857850406429, 114.91755020913463, 112.37550688453997, 107.65944696064932, 102.86243029217287, 98.25285771249442, 95.77075831980508, 90.04109868728298, 88.07475598142585, 88.58277614387353, 84.66643741232323, 85.68021789626067, 82.04309176220035, 84.26004549931166, 657.1317039795807, 258.69725388218126, 1148.0792195179617, 328.327308515323, 1487.5015815039344, 248.5204502526724, 284.8664237209197, 680.0274900123147, 3144.2028322077176, 2873.9480460611476, 1275.6148611395452, 448.57141980733655, 657.6702899443167, 832.3652720930717, 1587.3554319400257, 1005.7609840814812, 902.4503811273162, 1895.6923109104384, 349.4088400309727, 15621.705080980906, 950.3709262217935, 560.2590813607126, 527.1898296839441, 23651.229100465385, 4927.171465849736, 1513.0977211358259, 4168.902625503184, 1634.0961947864162, 21538.07989198085, 2068.7921408437674, 4032.1116389650065, 26352.556444011545, 2758.267066441269, 9452.673111751057, 2015.0760448723781, 5049.513919189125, 79960.33922585986, 3946.1400063612978, 2210.0717263973957, 6960.20332286711, 4869.129373908254, 3871.3042892617723, 16527.49849969402, 4310.023853943756, 3646.351178265423, 5223.607890025892, 7295.798883795947, 3550.4724290248687, 14049.99221042486, 18076.38668210034, 10567.782323577943, 9411.776927968207, 79237.87653569323, 5442.650722612141, 6147.997209627582, 5397.0586127827, 4386.879034317284, 21520.869423067652, 19238.613949915994, 7604.907623577651, 16017.020974586216, 18645.13051263157, 12857.619535033786, 1035.8457272696448, 526.7755542485642, 334.96435568883834, 332.76747686782244, 297.6285648384281, 277.2974733821079, 260.57070215205056, 213.367587816771, 200.90881574539375, 199.22741797850892, 190.3372509207535, 189.92146480312257, 188.89272246767138, 178.99912450024533, 173.29424134947155, 164.187489623087, 154.25644889162612, 153.06158069124535, 148.44424507886234, 138.3850128286711, 144.47800123675634, 134.92237970979937, 127.47833695816873, 122.55777074168884, 114.3941110614742, 110.29384599418462, 110.24072802646144, 107.41256412097115, 105.14928563101428, 101.50039161771036, 253.77695209252667, 541.3390248283312, 671.1297719600593, 1072.2846782966224, 1417.9846766396427, 972.7296731822129, 2741.4523462003544, 860.300791498806, 1176.7820944349648, 8740.436754904656, 4185.057819355658, 3797.5017591165483, 460.38482507055363, 1163.595498383823, 1166.751162250803, 5225.8724335576735, 3134.7162858514657, 4956.233898127176, 1095.3720877007117, 1349.086986698346, 652.6261505005613, 7932.191060324502, 1975.1593591349927, 5480.915095551016, 3166.7806928244763, 1433.7470747394375, 1618.9759774325375, 1360.603853407846, 895.5400246662102, 3372.7676272051494, 3174.202909771683, 6344.813973528483, 7418.321970168614, 10567.782323577943, 4518.14868893214, 3669.1573720359156, 79960.33922585986, 8404.518745607149, 4211.33032277037, 11437.445728980882, 3229.9600805255495, 16017.020974586216, 21538.07989198085, 19238.613949915994, 14566.22378609235, 18437.58728831546, 6313.524305087855, 6571.408578965703, 14086.04554909586, 21568.342257224194, 12857.619535033786, 79237.87653569323, 26352.556444011545, 13936.398805938443, 23651.229100465385, 11218.501132269495, 16527.49849969402, 13633.185756047338, 21520.869423067652, 5008.8817201915535, 1267.2164121079525, 1041.1717720162783, 681.5543224262856, 533.5465281506424, 601.2052665922256, 445.16067857081015, 421.54810512996613, 388.90263605736754, 339.69882067251876, 336.37284971444063, 331.38565168845645, 324.0293602815549, 316.69198191858567, 313.27269751518116, 288.22576116469577, 268.9554770524322, 249.68244536425044, 246.4623192725524, 241.18611339961055, 240.01250549849436, 228.290241908016, 219.18522575919263, 214.37079074787567, 1746.4727689459144, 207.47370314932246, 207.89987526055532, 206.24898417214183, 203.02131030021624, 196.74509875919827, 1464.866898881002, 3072.2671236530005, 450.7259501511789, 3441.1027906278973, 391.721632752905, 1568.731413917625, 1788.9471931886737, 3888.7807941198525, 4136.944371359554, 1859.5998569380365, 623.0986336011731, 827.2205291942392, 1485.4150576903248, 3008.6709707225, 765.0042835771341, 501.0025988029533, 1064.2584453929235, 532.0783885619672, 1199.5877816243328, 3247.301585571905, 2391.9195241413377, 2879.1239082548054, 1748.9705979866856, 5117.112838724949, 2674.9450639873025, 4166.80086315811, 4907.413428471785, 10690.776408433176, 14049.99221042486, 9565.28523831282, 2346.9405474034784, 5291.885250324305, 3275.1661359048835, 6913.144329040863, 2666.1880619569974, 79237.87653569323, 8925.368707977144, 13633.185756047338, 21520.869423067652, 13936.398805938443, 21568.342257224194, 18645.13051263157, 10133.464594719544, 79960.33922585986, 8287.428199652255, 6973.28068828979, 18076.38668210034, 7797.08463428744, 26352.556444011545, 5987.167544763799, 7303.479028710204, 10889.15917655725, 15621.705080980906, 4714.146036212466, 3448.052249950957, 3026.2498709995716, 1563.5543466214313, 1156.9375677071794, 872.5132277333109, 637.4542496053031, 605.0989688638864, 603.7736209727796, 533.7298164081934, 503.4615390156502, 391.3480955437393, 323.6783766289036, 316.75733124305583, 286.85899908832755, 256.89246571815124, 240.52492750731162, 211.14605885892382, 192.55949824151486, 192.3645535484183, 186.87434386850822, 183.33228710907187, 179.55267359297184, 178.37676388634011, 167.8887956516821, 163.30427370242023, 159.69200659068133, 149.06943227157993, 140.16950747125452, 132.60934066769255, 2565.350912280927, 2091.292196919125, 344.83081325251504, 1493.9137672836844, 279.70341017046377, 5971.19032453569, 6528.992275142797, 1021.1625702022567, 459.72494888381334, 811.1894000266514, 1302.3546111479577, 19238.613949915994, 18076.38668210034, 5737.5796964787605, 79960.33922585986, 2598.4111807648283, 2638.1285137881564, 1664.0198760854823, 21538.07989198085, 18437.58728831546, 79237.87653569323, 14566.22378609235, 9881.977285431072, 7295.798883795947, 23651.229100465385, 16527.49849969402, 21520.869423067652, 26352.556444011545, 7932.191060324502, 21568.342257224194, 9452.673111751057, 7418.321970168614, 9169.88679597349, 15202.847339606906, 9496.549760455706, 7750.731893198111, 7700.612893216816, 12857.619535033786, 13936.398805938443, 870.5032541438878, 340.5274455926448, 337.43515424674, 327.79369998582746, 296.43833705566436, 277.98922364013566, 1221.8489190910302, 250.53623175980638, 179.1089857466223, 165.6525416809861, 163.5703854162976, 149.34585904942924, 143.80331777251553, 135.12221229067796, 128.24552917484877, 129.40402415612016, 122.06029811255425, 458.24911244683216, 116.33865169927687, 116.82109859965684, 115.12587328251881, 110.30930281475774, 102.50616559593252, 101.82722097383402, 96.83169051587673, 96.05617308236907, 92.70625422433903, 93.06179435186048, 88.0145313514026, 87.2111634779553, 579.8024441725845, 543.687952334584, 199.02115250681072, 918.6333276929654, 117.81065381282009, 553.7766795582996, 3261.9043399219327, 367.62688462190704, 324.6827211290368, 542.2623389800957, 768.7527951857869, 492.50187225425674, 1665.3398599675024, 9921.206443033638, 4811.793602277738, 2135.4585822967215, 1059.9674155176558, 1441.2309868262314, 701.7269096338867, 3882.981984689449, 1354.0337022883973, 759.8845378903184, 566.4242918011331, 5409.376704593181, 1686.51545825031, 3440.944431864003, 3778.22230173897, 79237.87653569323, 15202.847339606906, 2217.737581227824, 7149.924833914758, 2649.241327607676, 9881.977285431072, 4690.593081846866, 1824.070392184071, 16017.020974586216, 9496.549760455706, 10889.15917655725, 18437.58728831546, 79960.33922585986, 7750.731893198111, 5300.754514773756, 3828.5059095889364, 18645.13051263157, 4624.261460920608, 6052.0064318766, 11437.445728980882, 6853.994113763707, 16527.49849969402, 14566.22378609235, 21568.342257224194, 21520.869423067652, 19238.613949915994, 26352.556444011545, 12857.619535033786, 15621.705080980906, 9169.88679597349, 23651.229100465385, 926.700496387612, 829.0935309279806, 713.328677248564, 652.9158162794496, 573.0017088799121, 568.5147695724551, 463.84040317859956, 422.01897154080154, 401.92653729492105, 382.2383109865464, 357.5829640646227, 330.27963840772253, 248.87482595704304, 228.6279049708027, 229.94762764012032, 221.88994003201472, 215.72185107538752, 210.47362113491099, 196.54368813635998, 195.74731180344583, 185.23382567304938, 185.42917704028724, 183.68221422120118, 181.12570942011178, 182.27372225604674, 164.2678068610989, 164.75126802097128, 161.44803884140038, 159.65396454746636, 142.02049627094178, 990.4296176454852, 787.1466385234861, 4907.8700447194415, 859.6415897254801, 622.8931477665136, 1074.0826666775085, 388.88776573229535, 1143.5452083796001, 1635.552038138782, 404.7416885493831, 1541.767879369584, 1034.0782862229812, 14086.04554909586, 717.1379483904951, 745.3889436083845, 1542.3927856353985, 1334.5234273449134, 3202.3824605152195, 2555.9765814860357, 4679.2367575885155, 6725.372993144107, 4869.129373908254, 8404.518745607149, 829.4594948712097, 2505.7977359586093, 6147.997209627582, 1199.2204077199249, 1097.926762120765, 7835.548095525192, 3882.981984689449, 11218.501132269495, 11437.445728980882, 5094.034941608861, 79237.87653569323, 15202.847339606906, 13936.398805938443, 18645.13051263157, 9881.977285431072, 6960.20332286711, 3451.6516460535795, 2615.5232203586197], \"Category\": [\"Default\", \"Default\", \"Default\", \"Default\", \"Default\", \"Default\", \"Default\", \"Default\", \"Default\", \"Default\", \"Default\", \"Default\", \"Default\", \"Default\", \"Default\", \"Default\", \"Default\", \"Default\", \"Default\", \"Default\", \"Default\", \"Default\", \"Default\", \"Default\", \"Default\", \"Default\", \"Default\", \"Default\", \"Default\", \"Default\", \"Topic1\", \"Topic1\", \"Topic1\", \"Topic1\", \"Topic1\", \"Topic1\", \"Topic1\", \"Topic1\", \"Topic1\", \"Topic1\", \"Topic1\", \"Topic1\", \"Topic1\", \"Topic1\", \"Topic1\", \"Topic1\", \"Topic1\", \"Topic1\", \"Topic1\", \"Topic1\", \"Topic1\", \"Topic1\", \"Topic1\", \"Topic1\", \"Topic1\", \"Topic1\", \"Topic1\", \"Topic1\", \"Topic1\", \"Topic1\", \"Topic1\", \"Topic1\", \"Topic1\", \"Topic1\", \"Topic1\", \"Topic1\", \"Topic1\", \"Topic1\", \"Topic1\", \"Topic1\", \"Topic1\", \"Topic1\", \"Topic1\", \"Topic1\", \"Topic1\", \"Topic1\", \"Topic1\", \"Topic1\", \"Topic1\", \"Topic1\", \"Topic1\", \"Topic1\", \"Topic1\", \"Topic1\", \"Topic1\", \"Topic1\", \"Topic1\", \"Topic1\", \"Topic1\", \"Topic1\", \"Topic1\", \"Topic1\", \"Topic1\", \"Topic1\", \"Topic1\", \"Topic1\", \"Topic1\", \"Topic1\", \"Topic1\", \"Topic1\", \"Topic1\", \"Topic1\", \"Topic1\", \"Topic1\", \"Topic1\", \"Topic1\", \"Topic1\", \"Topic1\", \"Topic1\", \"Topic1\", \"Topic1\", \"Topic1\", \"Topic1\", \"Topic1\", \"Topic1\", \"Topic1\", \"Topic1\", \"Topic1\", \"Topic1\", \"Topic1\", \"Topic1\", \"Topic1\", \"Topic1\", \"Topic1\", \"Topic2\", \"Topic2\", \"Topic2\", \"Topic2\", \"Topic2\", \"Topic2\", \"Topic2\", \"Topic2\", \"Topic2\", \"Topic2\", \"Topic2\", \"Topic2\", \"Topic2\", \"Topic2\", \"Topic2\", \"Topic2\", \"Topic2\", \"Topic2\", \"Topic2\", \"Topic2\", \"Topic2\", \"Topic2\", \"Topic2\", \"Topic2\", \"Topic2\", \"Topic2\", \"Topic2\", \"Topic2\", \"Topic2\", \"Topic2\", \"Topic2\", \"Topic2\", \"Topic2\", \"Topic2\", \"Topic2\", \"Topic2\", \"Topic2\", \"Topic2\", \"Topic2\", \"Topic2\", \"Topic2\", \"Topic2\", \"Topic2\", \"Topic2\", \"Topic2\", \"Topic2\", \"Topic2\", \"Topic2\", \"Topic2\", \"Topic2\", \"Topic2\", \"Topic2\", \"Topic2\", \"Topic2\", \"Topic2\", \"Topic2\", \"Topic2\", \"Topic2\", \"Topic2\", \"Topic2\", \"Topic2\", \"Topic2\", \"Topic2\", \"Topic2\", \"Topic2\", \"Topic2\", \"Topic2\", \"Topic2\", \"Topic2\", \"Topic2\", \"Topic2\", \"Topic2\", \"Topic2\", \"Topic2\", \"Topic2\", \"Topic2\", \"Topic2\", \"Topic2\", \"Topic2\", \"Topic2\", \"Topic2\", \"Topic2\", \"Topic2\", \"Topic2\", \"Topic2\", \"Topic2\", \"Topic2\", \"Topic2\", \"Topic2\", \"Topic3\", \"Topic3\", \"Topic3\", \"Topic3\", \"Topic3\", \"Topic3\", \"Topic3\", \"Topic3\", \"Topic3\", \"Topic3\", \"Topic3\", \"Topic3\", \"Topic3\", \"Topic3\", \"Topic3\", \"Topic3\", \"Topic3\", \"Topic3\", \"Topic3\", \"Topic3\", \"Topic3\", \"Topic3\", \"Topic3\", \"Topic3\", \"Topic3\", \"Topic3\", \"Topic3\", \"Topic3\", \"Topic3\", \"Topic3\", \"Topic3\", \"Topic3\", \"Topic3\", \"Topic3\", \"Topic3\", \"Topic3\", \"Topic3\", \"Topic3\", \"Topic3\", \"Topic3\", \"Topic3\", \"Topic3\", \"Topic3\", \"Topic3\", \"Topic3\", \"Topic3\", \"Topic3\", \"Topic3\", \"Topic3\", \"Topic3\", \"Topic3\", \"Topic3\", \"Topic3\", \"Topic3\", \"Topic3\", \"Topic3\", \"Topic3\", \"Topic3\", \"Topic3\", \"Topic3\", \"Topic3\", \"Topic3\", \"Topic3\", \"Topic3\", \"Topic3\", \"Topic3\", \"Topic3\", \"Topic3\", \"Topic3\", \"Topic3\", \"Topic3\", \"Topic3\", \"Topic3\", \"Topic3\", \"Topic3\", \"Topic3\", \"Topic3\", \"Topic3\", \"Topic3\", \"Topic3\", \"Topic3\", \"Topic3\", \"Topic3\", \"Topic4\", \"Topic4\", \"Topic4\", \"Topic4\", \"Topic4\", \"Topic4\", \"Topic4\", \"Topic4\", \"Topic4\", \"Topic4\", \"Topic4\", \"Topic4\", \"Topic4\", \"Topic4\", \"Topic4\", \"Topic4\", \"Topic4\", \"Topic4\", \"Topic4\", \"Topic4\", \"Topic4\", \"Topic4\", \"Topic4\", \"Topic4\", \"Topic4\", \"Topic4\", \"Topic4\", \"Topic4\", \"Topic4\", \"Topic4\", \"Topic4\", \"Topic4\", \"Topic4\", \"Topic4\", \"Topic4\", \"Topic4\", \"Topic4\", \"Topic4\", \"Topic4\", \"Topic4\", \"Topic4\", \"Topic4\", \"Topic4\", \"Topic4\", \"Topic4\", \"Topic4\", \"Topic4\", \"Topic4\", \"Topic4\", \"Topic4\", \"Topic4\", \"Topic4\", \"Topic4\", \"Topic4\", \"Topic4\", \"Topic4\", \"Topic4\", \"Topic4\", \"Topic4\", \"Topic4\", \"Topic4\", \"Topic4\", \"Topic4\", \"Topic4\", \"Topic4\", \"Topic4\", \"Topic4\", \"Topic4\", \"Topic4\", \"Topic5\", \"Topic5\", \"Topic5\", \"Topic5\", \"Topic5\", \"Topic5\", \"Topic5\", \"Topic5\", \"Topic5\", \"Topic5\", \"Topic5\", \"Topic5\", \"Topic5\", \"Topic5\", \"Topic5\", \"Topic5\", \"Topic5\", \"Topic5\", \"Topic5\", \"Topic5\", \"Topic5\", \"Topic5\", \"Topic5\", \"Topic5\", \"Topic5\", \"Topic5\", \"Topic5\", \"Topic5\", \"Topic5\", \"Topic5\", \"Topic5\", \"Topic5\", \"Topic5\", \"Topic5\", \"Topic5\", \"Topic5\", \"Topic5\", \"Topic5\", \"Topic5\", \"Topic5\", \"Topic5\", \"Topic5\", \"Topic5\", \"Topic5\", \"Topic5\", \"Topic5\", \"Topic5\", \"Topic5\", \"Topic5\", \"Topic5\", \"Topic5\", \"Topic5\", \"Topic5\", \"Topic5\", \"Topic5\", \"Topic5\", \"Topic5\", \"Topic5\", \"Topic5\", \"Topic5\", \"Topic5\", \"Topic5\", \"Topic5\", \"Topic5\", \"Topic5\", \"Topic5\", \"Topic5\", \"Topic5\", \"Topic5\", \"Topic5\", \"Topic5\", \"Topic5\", \"Topic5\", \"Topic5\", \"Topic5\", \"Topic5\", \"Topic5\", \"Topic5\", \"Topic5\", \"Topic5\", \"Topic5\", \"Topic5\", \"Topic5\", \"Topic5\", \"Topic5\", \"Topic5\", \"Topic5\", \"Topic5\", \"Topic6\", \"Topic6\", \"Topic6\", \"Topic6\", \"Topic6\", \"Topic6\", \"Topic6\", \"Topic6\", \"Topic6\", \"Topic6\", \"Topic6\", \"Topic6\", \"Topic6\", \"Topic6\", \"Topic6\", \"Topic6\", \"Topic6\", \"Topic6\", \"Topic6\", \"Topic6\", \"Topic6\", \"Topic6\", \"Topic6\", \"Topic6\", \"Topic6\", \"Topic6\", \"Topic6\", \"Topic6\", \"Topic6\", \"Topic6\", \"Topic6\", \"Topic6\", \"Topic6\", \"Topic6\", \"Topic6\", \"Topic6\", \"Topic6\", \"Topic6\", \"Topic6\", \"Topic6\", \"Topic6\", \"Topic6\", \"Topic6\", \"Topic6\", \"Topic6\", \"Topic6\", \"Topic6\", \"Topic6\", \"Topic6\", \"Topic6\", \"Topic6\", \"Topic6\", \"Topic6\", \"Topic6\", \"Topic6\", \"Topic6\", \"Topic6\", \"Topic6\", \"Topic6\", \"Topic6\", \"Topic6\", \"Topic6\", \"Topic6\", \"Topic6\", \"Topic6\", \"Topic6\", \"Topic6\", \"Topic6\", \"Topic6\", \"Topic6\", \"Topic6\"], \"logprob\": [30.0, 29.0, 28.0, 27.0, 26.0, 25.0, 24.0, 23.0, 22.0, 21.0, 20.0, 19.0, 18.0, 17.0, 16.0, 15.0, 14.0, 13.0, 12.0, 11.0, 10.0, 9.0, 8.0, 7.0, 6.0, 5.0, 4.0, 3.0, 2.0, 1.0, -6.5927, -7.1115, -7.2089, -7.3597, -7.7422, -7.7482, -7.8693, -8.0401, -8.0516, -8.0474, -8.0799, -8.1291, -8.1884, -8.2251, -8.2265, -8.2972, -8.3103, -8.3276, -8.321, -8.3435, -8.387, -8.4326, -8.4788, -8.5047, -8.5669, -8.5891, -8.5834, -8.629, -8.6174, -8.6608, -8.6342, -6.6306, -7.5439, -6.107, -7.3155, -5.8715, -7.5935, -7.4643, -6.6379, -5.2411, -5.3436, -6.092, -7.0723, -6.7378, -6.5371, -5.9702, -6.4084, -6.5107, -5.8813, -7.3441, -4.1262, -6.5143, -6.9532, -7.0056, -3.8945, -5.2153, -6.1601, -5.3576, -6.1101, -4.1143, -5.9465, -5.4547, -4.0962, -5.7722, -4.8974, -6.0, -5.3647, -3.4951, -5.5852, -5.965, -5.2707, -5.4858, -5.6268, -4.7875, -5.5798, -5.682, -5.4863, -5.3081, -5.7025, -4.991, -4.8795, -5.161, -5.2259, -4.3009, -5.4947, -5.4549, -5.5495, -5.6271, -5.1918, -5.2272, -5.4903, -5.3768, -5.4541, -5.503, -6.2504, -6.9274, -7.381, -7.3876, -7.4995, -7.5705, -7.6329, -7.8335, -7.8939, -7.9023, -7.9481, -7.9503, -7.9558, -8.0098, -8.0426, -8.0968, -8.1594, -8.1673, -8.198, -8.2686, -8.2256, -8.2941, -8.3512, -8.3908, -8.4603, -8.497, -8.4975, -8.5237, -8.5451, -8.5807, -7.67, -6.9272, -6.7228, -6.2734, -6.0043, -6.3961, -5.4069, -6.5225, -6.2345, -4.3342, -5.0594, -5.1686, -7.1393, -6.2866, -6.2865, -4.9097, -5.3808, -4.9893, -6.3787, -6.1951, -6.845, -4.6481, -5.8816, -4.9993, -5.4834, -6.1684, -6.0841, -6.2305, -6.5807, -5.4918, -5.5523, -4.9954, -4.8791, -4.6727, -5.3478, -5.5029, -3.3715, -4.9593, -5.4391, -4.781, -5.6402, -4.657, -4.48, -4.5688, -4.7618, -4.6435, -5.271, -5.2799, -4.9142, -4.7155, -4.9717, -4.1933, -4.7664, -5.0873, -4.9473, -5.1812, -5.1368, -5.1963, -5.1457, -5.0263, -6.4013, -6.5979, -7.0221, -7.2673, -7.148, -7.4488, -7.5034, -7.5842, -7.7198, -7.7296, -7.7446, -7.7671, -7.7901, -7.801, -7.8846, -7.954, -8.0286, -8.0417, -8.0634, -8.0683, -8.1185, -8.1594, -8.1817, -6.0842, -8.2146, -8.2126, -8.2206, -8.2364, -8.2679, -6.2712, -5.5403, -7.4423, -5.4314, -7.591, -6.2337, -6.1117, -5.3642, -5.3048, -6.0807, -7.1417, -6.8727, -6.3226, -5.6529, -6.9549, -7.3596, -6.6544, -7.3037, -6.5526, -5.6553, -5.9448, -5.7955, -6.2533, -5.3314, -5.9028, -5.5326, -5.4048, -4.7815, -4.5643, -4.8944, -6.0453, -5.4183, -5.8093, -5.2451, -5.9714, -3.5674, -5.1177, -4.8743, -4.6303, -4.9226, -4.6634, -4.7539, -5.1247, -4.0766, -5.3301, -5.461, -5.0235, -5.4412, -4.9641, -5.5806, -5.5296, -5.4566, -5.4785, -4.5849, -4.8977, -5.0283, -5.6889, -5.9902, -6.2726, -6.5869, -6.639, -6.6412, -6.7647, -6.8232, -7.0756, -7.2659, -7.2875, -7.387, -7.4976, -7.564, -7.6945, -7.787, -7.788, -7.8171, -7.8363, -7.8572, -7.8638, -7.9247, -7.9525, -7.9751, -8.0442, -8.1061, -8.1619, -5.3005, -5.5093, -7.2669, -5.9783, -7.4761, -4.8433, -4.7675, -6.3872, -7.063, -6.593, -6.2037, -4.1532, -4.2278, -5.1538, -3.3102, -5.8314, -5.8303, -6.1656, -4.4145, -4.5336, -3.568, -4.7455, -5.0067, -5.2052, -4.4688, -4.8159, -4.7206, -4.6283, -5.2974, -4.8147, -5.2294, -5.369, -5.2841, -5.1512, -5.3341, -5.424, -5.46, -5.4008, -5.4141, -6.6281, -7.5683, -7.5774, -7.6065, -7.7073, -7.7718, -6.2917, -7.8765, -8.2132, -8.2917, -8.3045, -8.3959, -8.434, -8.4969, -8.5493, -8.5403, -8.5991, -7.2762, -8.6474, -8.6433, -8.6581, -8.7011, -8.7751, -8.7818, -8.8326, -8.8407, -8.8766, -8.8728, -8.929, -8.9383, -7.0475, -7.1141, -8.1161, -6.6458, -8.6431, -7.1651, -5.4833, -7.5612, -7.6818, -7.2066, -6.8953, -7.3096, -6.1944, -4.5558, -5.2284, -5.9712, -6.6183, -6.3456, -6.9939, -5.4856, -6.4239, -6.9574, -7.2202, -5.3126, -6.2967, -5.7078, -5.6461, -3.1626, -4.5675, -6.1078, -5.1853, -5.9751, -4.9557, -5.5309, -6.2786, -4.6933, -5.0827, -4.9839, -4.6158, -3.6273, -5.3266, -5.5921, -5.8144, -4.8918, -5.7119, -5.5887, -5.2503, -5.5229, -5.1041, -5.167, -5.0006, -5.0675, -5.1297, -5.0689, -5.3766, -5.3996, -5.5103, -5.4012, -5.5139, -5.6253, -5.7758, -5.8645, -5.9952, -6.0031, -6.2069, -6.3016, -6.3505, -6.4008, -6.4676, -6.5473, -6.8311, -6.9163, -6.9105, -6.9463, -6.9746, -6.9993, -7.0681, -7.0722, -7.1276, -7.1266, -7.1361, -7.1502, -7.1439, -7.2484, -7.2455, -7.2659, -7.2773, -7.3948, -5.4612, -5.7018, -3.9714, -5.6498, -5.961, -5.4459, -6.4305, -5.4743, -5.1761, -6.4333, -5.2709, -5.7532, -3.726, -6.0491, -6.0353, -5.4952, -5.6266, -4.9942, -5.1592, -4.7808, -4.7091, -4.9319, -4.6424, -5.9743, -5.441, -5.0259, -5.8046, -5.8543, -5.0556, -5.3594, -4.9824, -5.0162, -5.3188, -4.5648, -5.0635, -5.0869, -5.0915, -5.4, -5.4876, -5.5774, -5.6081], \"loglift\": [30.0, 29.0, 28.0, 27.0, 26.0, 25.0, 24.0, 23.0, 22.0, 21.0, 20.0, 19.0, 18.0, 17.0, 16.0, 15.0, 14.0, 13.0, 12.0, 11.0, 10.0, 9.0, 8.0, 7.0, 6.0, 5.0, 4.0, 3.0, 2.0, 1.0, 1.893, 1.8921, 1.8919, 1.8916, 1.8904, 1.8903, 1.8897, 1.889, 1.889, 1.8889, 1.8887, 1.8885, 1.8881, 1.8879, 1.8878, 1.8875, 1.8874, 1.8873, 1.8873, 1.8872, 1.8865, 1.8865, 1.8861, 1.8859, 1.8854, 1.8852, 1.8852, 1.8848, 1.8845, 1.8844, 1.8844, 1.834, 1.8529, 1.7997, 1.843, 1.7761, 1.8435, 1.8361, 1.7925, 1.6581, 1.6455, 1.7093, 1.7741, 1.726, 1.6911, 1.6125, 1.6306, 1.6367, 1.5239, 1.7521, 1.1699, 1.5814, 1.6709, 1.6794, 0.9869, 1.2347, 1.4705, 1.2595, 1.4436, 0.8606, 1.3713, 1.1957, 0.677, 1.2579, 0.9011, 1.3441, 1.0608, 0.1681, 1.0868, 1.2868, 0.8338, 0.9761, 1.0644, 0.4523, 1.0041, 1.0691, 0.9052, 0.7494, 1.0751, 0.4111, 0.2706, 0.5259, 0.5769, -0.6286, 0.8558, 0.7737, 0.8094, 0.939, -0.216, -0.1393, 0.5256, -0.1057, -0.335, -0.0122, 1.7591, 1.7584, 1.7575, 1.7574, 1.7571, 1.7569, 1.7568, 1.756, 1.7558, 1.7558, 1.7556, 1.7556, 1.7555, 1.7553, 1.7549, 1.7547, 1.7545, 1.7543, 1.7543, 1.7539, 1.7538, 1.7537, 1.7534, 1.7531, 1.7526, 1.7524, 1.7523, 1.7522, 1.752, 1.7517, 1.7461, 1.7312, 1.7208, 1.7015, 1.6912, 1.6763, 1.6293, 1.6727, 1.6474, 1.5426, 1.5539, 1.5418, 1.6812, 1.6066, 1.6041, 1.4814, 1.5215, 1.4548, 1.575, 1.5502, 1.6265, 1.3257, 1.4825, 1.3442, 1.4086, 1.516, 1.4789, 1.5064, 1.5744, 1.3372, 1.3374, 1.2018, 1.1617, 1.0143, 1.1889, 1.2419, 0.2917, 0.9567, 1.1679, 0.8269, 1.2321, 0.6141, 0.4949, 0.519, 0.6043, 0.4869, 0.9311, 0.8821, 0.4853, 0.258, 0.5191, -0.521, 0.0068, 0.3229, -0.066, 0.446, 0.1029, 0.236, -0.1699, 1.4072, 1.4067, 1.4065, 1.406, 1.4057, 1.4056, 1.4053, 1.4052, 1.405, 1.4047, 1.4046, 1.4046, 1.4045, 1.4045, 1.4044, 1.4042, 1.4039, 1.4037, 1.4036, 1.4035, 1.4035, 1.4033, 1.4032, 1.4031, 1.4029, 1.4029, 1.4029, 1.4029, 1.4028, 1.4027, 1.3918, 1.382, 1.3993, 1.3776, 1.391, 1.3608, 1.3515, 1.3225, 1.32, 1.3437, 1.3761, 1.3618, 1.3264, 1.2903, 1.3577, 1.3763, 1.3281, 1.372, 1.3101, 1.2117, 1.2279, 1.1917, 1.2324, 1.0808, 1.1581, 1.085, 1.0492, 0.8939, 0.8378, 0.8922, 1.1463, 0.9602, 1.0491, 0.8663, 1.0927, 0.1049, 0.7382, 0.558, 0.3454, 0.4876, 0.3101, 0.3652, 0.6042, -0.4133, 0.5999, 0.6416, 0.1266, 0.5498, -0.1909, 0.6745, 0.5268, 0.2004, -0.1824, 1.9093, 1.9092, 1.9092, 1.9089, 1.9087, 1.9085, 1.9082, 1.9081, 1.9081, 1.9079, 1.9078, 1.9073, 1.9069, 1.9068, 1.9065, 1.9062, 1.9057, 1.9055, 1.9051, 1.9051, 1.9049, 1.9049, 1.9048, 1.9048, 1.9045, 1.9044, 1.9042, 1.9039, 1.9035, 1.9032, 1.8022, 1.7977, 1.8426, 1.6651, 1.8427, 1.4145, 1.401, 1.6367, 1.7589, 1.661, 1.5768, 0.9346, 0.9224, 1.1439, 0.3531, 1.2584, 1.2443, 1.37, 0.5604, 0.5967, 0.1043, 0.6205, 0.7473, 0.8522, 0.4125, 0.4238, 0.2551, 0.1449, 0.6765, 0.1588, 0.5691, 0.6718, 0.5447, 0.1721, 0.4597, 0.573, 0.5435, 0.09, -0.0039, 1.5554, 1.5537, 1.5537, 1.5536, 1.5533, 1.5531, 1.5527, 1.5524, 1.5513, 1.5509, 1.5508, 1.5503, 1.55, 1.5495, 1.5493, 1.5492, 1.5489, 1.5489, 1.5486, 1.5485, 1.5484, 1.5481, 1.5475, 1.5474, 1.547, 1.5469, 1.5465, 1.5464, 1.546, 1.5459, 1.5423, 1.54, 1.543, 1.4838, 1.5404, 1.4707, 1.3791, 1.4842, 1.4878, 1.4502, 1.4125, 1.4434, 1.3403, 1.1943, 1.2453, 1.3148, 1.3682, 1.3337, 1.4051, 1.2025, 1.3178, 1.3619, 1.3929, 1.044, 1.2254, 1.1012, 1.0694, 0.5098, 0.7558, 1.1405, 0.8924, 1.0953, 0.7984, 0.9683, 1.1651, 0.5778, 0.7111, 0.673, 0.5146, 0.0359, 0.6704, 0.7848, 0.8879, 0.2274, 0.8015, 0.6557, 0.3575, 0.597, 0.1356, 0.1991, -0.0271, -0.0918, -0.0418, -0.2957, 0.1142, -0.1035, 0.3185, -0.5198, 2.607, 2.6069, 2.6067, 2.6066, 2.6064, 2.6064, 2.6061, 2.6059, 2.6058, 2.6057, 2.6055, 2.6053, 2.6045, 2.6041, 2.6041, 2.604, 2.6039, 2.6038, 2.6035, 2.6035, 2.6032, 2.6032, 2.6032, 2.6031, 2.6031, 2.6026, 2.6026, 2.6024, 2.6022, 2.6018, 2.5932, 2.5823, 2.4825, 2.5462, 2.5571, 2.5274, 2.5587, 2.4363, 2.3766, 2.5159, 2.341, 2.258, 1.6736, 2.3281, 2.3033, 2.1162, 2.1296, 1.8867, 1.9471, 1.7209, 1.4298, 1.53, 1.2736, 2.2575, 1.6852, 1.2027, 2.0585, 2.097, 0.9305, 1.3288, 0.6448, 0.5917, 1.0978, -0.8925, 0.2598, 0.3233, 0.0276, 0.354, 0.617, 1.2285, 1.4752]}, \"token.table\": {\"Topic\": [3, 5, 6, 2, 3, 4, 5, 6, 4, 3, 4, 5, 6, 2, 3, 4, 5, 6, 2, 1, 2, 3, 4, 5, 6, 1, 2, 3, 4, 5, 6, 2, 3, 4, 5, 6, 1, 2, 3, 4, 6, 2, 5, 1, 1, 1, 2, 3, 4, 5, 6, 5, 3, 2, 1, 2, 3, 4, 5, 6, 1, 2, 3, 4, 6, 1, 3, 4, 6, 3, 1, 1, 2, 4, 1, 2, 4, 5, 1, 2, 3, 4, 5, 6, 6, 6, 1, 1, 2, 3, 4, 5, 6, 1, 2, 3, 4, 5, 6, 1, 2, 1, 2, 6, 2, 1, 2, 3, 5, 1, 2, 3, 4, 5, 6, 1, 4, 5, 6, 1, 2, 3, 4, 5, 6, 1, 2, 3, 4, 5, 1, 1, 3, 4, 1, 2, 3, 4, 5, 6, 2, 4, 5, 6, 5, 6, 1, 2, 3, 4, 5, 6, 4, 4, 3, 4, 2, 4, 1, 3, 6, 1, 2, 3, 6, 1, 2, 3, 4, 5, 6, 3, 2, 2, 3, 4, 3, 6, 3, 5, 5, 3, 3, 5, 6, 1, 4, 1, 1, 1, 1, 2, 5, 6, 2, 4, 5, 6, 1, 6, 3, 5, 6, 1, 2, 3, 4, 5, 6, 1, 3, 4, 6, 4, 6, 5, 3, 1, 2, 3, 4, 5, 1, 2, 3, 4, 5, 6, 1, 3, 5, 1, 2, 3, 4, 5, 6, 2, 4, 5, 6, 1, 2, 4, 5, 6, 1, 2, 3, 4, 5, 6, 3, 3, 1, 2, 3, 5, 6, 2, 1, 2, 3, 4, 5, 6, 6, 3, 3, 6, 3, 5, 6, 6, 1, 3, 4, 5, 1, 2, 3, 4, 5, 6, 1, 2, 5, 1, 2, 3, 4, 5, 6, 5, 1, 2, 2, 4, 6, 5, 6, 2, 4, 5, 1, 2, 5, 1, 2, 3, 4, 5, 6, 1, 2, 3, 6, 6, 1, 3, 2, 5, 1, 2, 4, 5, 6, 6, 2, 4, 1, 2, 4, 5, 6, 1, 2, 5, 1, 2, 3, 4, 5, 6, 1, 2, 3, 4, 5, 6, 3, 1, 2, 3, 4, 5, 6, 1, 2, 3, 4, 5, 6, 1, 2, 4, 5, 6, 1, 4, 5, 1, 2, 3, 4, 5, 5, 4, 3, 2, 1, 2, 3, 4, 5, 6, 1, 2, 5, 6, 1, 2, 3, 4, 5, 3, 5, 1, 2, 3, 4, 5, 6, 4, 5, 1, 2, 3, 4, 5, 6, 1, 2, 3, 4, 5, 6, 1, 2, 3, 4, 5, 6, 1, 2, 4, 5, 6, 2, 4, 5, 6, 1, 2, 4, 5, 6, 1, 2, 3, 4, 5, 6, 6, 1, 2, 3, 4, 5, 6, 3, 5, 6, 5, 2, 3, 5, 2, 2, 1, 2, 1, 2, 3, 4, 5, 6, 2, 1, 1, 2, 3, 4, 5, 6, 1, 2, 3, 4, 5, 6, 2, 1, 1, 2, 3, 4, 5, 6, 5, 1, 3, 5, 3, 1, 2, 1, 2, 4, 5, 6, 1, 2, 3, 5, 6, 1, 1, 3, 1, 2, 3, 4, 5, 6, 1, 2, 3, 4, 5, 6, 4, 3, 5, 6, 1, 5, 5, 3, 2, 3, 4, 5, 6, 1, 2, 3, 4, 5, 6, 1, 3, 5, 6, 1, 4, 6, 2, 3, 5, 6, 1, 2, 3, 6, 1, 3, 5, 2, 4, 5, 6, 4, 5, 1, 1, 3, 6, 1, 2, 3, 4, 5, 6, 1, 2, 3, 4, 5, 6, 4, 4, 5, 6, 1, 2, 3, 4, 5, 6, 1, 3, 4, 5, 6, 1, 2, 3, 4, 5, 6, 1, 2, 4, 5, 1, 2, 3, 4, 5, 6, 2, 2, 1, 1, 2, 3, 4, 5, 6, 1, 2, 4, 6, 2, 3, 5, 6, 2, 4, 1, 2, 3, 4, 5, 6, 4, 1, 1, 2, 3, 4, 5, 6, 5, 6, 2, 1, 3, 1, 3, 4, 1, 2, 2, 4, 6, 5, 3, 5, 6, 1, 4, 3, 2, 4, 5, 6, 4, 3, 1, 2, 3, 5, 6, 1, 6, 1, 2, 3, 4, 5, 6, 3, 1, 2, 3, 4, 5, 6, 1, 2, 3, 4, 5, 6, 6, 2, 6, 2, 1, 2, 3, 4, 5, 6, 1, 2, 3, 4, 5, 6, 1, 2, 3, 4, 5, 6, 1, 2, 3, 4, 5, 6, 1, 2, 3, 4, 5, 6, 1, 2, 3, 4, 5, 6, 2, 3, 4, 5, 5, 3, 5, 1, 2, 4, 5, 4, 4, 6, 1, 2, 3, 4, 5, 6, 1, 2, 3, 4, 5, 6, 3, 5, 1, 2, 5, 1, 2, 3, 4, 5, 6, 3, 5, 1, 6, 1, 1, 2, 3, 4, 5, 6, 2, 3, 5, 6, 2, 6, 5, 3, 5, 4, 1, 2, 3, 4, 5, 6, 1, 3, 5, 6, 2, 2, 1, 2, 3, 4, 5, 6, 1, 3, 6, 2, 3, 4, 6, 4, 3, 1, 2, 3, 5, 6, 1, 5, 6, 4, 5, 6, 1, 2, 3, 4, 5, 6, 2, 5, 1, 2, 4, 5, 1, 2, 3, 5, 2, 1, 2, 3, 4, 5, 6, 1, 2, 3, 4, 5, 6, 1, 3, 6, 4, 3, 4, 2, 1, 2, 3, 4, 5, 2, 3, 6, 1, 2, 3, 4, 1, 6, 3, 1, 2, 4, 5, 6, 1, 2, 3, 4, 5, 6, 3, 4, 1, 2, 3, 4, 5, 6, 3, 5, 5, 5, 1, 3, 4, 5, 6, 6, 1, 2, 4, 5, 2, 6, 6, 2, 1, 2, 3, 1, 2, 3, 4, 5, 6, 2, 4, 3, 4, 5, 6, 1, 2, 3, 5, 6, 3, 5, 1, 2, 3, 4, 5, 6, 1, 3, 4, 3, 5, 1, 2, 6, 6, 3, 5, 6, 4, 2, 3, 5, 6, 1, 3, 3, 5, 1, 2, 5, 6, 1, 2, 3, 4, 5, 6, 5, 1, 3, 5, 4, 6, 4, 1, 2, 3, 4, 5, 6, 2, 1, 2, 3, 4, 5, 6, 1, 3, 4, 5, 1, 2, 3, 4, 5, 6, 2, 4, 6, 1, 2, 3, 4, 5, 6, 1, 2, 3, 4, 5, 6, 6, 2, 3, 4, 5, 6, 2, 4, 1, 2, 3, 4, 5, 6, 3, 6, 1, 3, 5, 6, 4, 6, 3, 3, 5, 6, 4, 1, 2, 3, 4, 5, 6, 1, 3, 4, 3, 5, 4, 3, 5, 1, 2, 3, 4, 5, 6, 3, 4, 5, 6, 3, 2, 3, 4, 3, 1, 3, 4, 6, 1, 2, 3, 4, 5, 6, 2, 4, 3, 4, 5, 6, 1, 2, 3, 4, 5, 6, 1, 2, 3, 4, 6, 4, 3, 2, 4, 2, 3, 6, 1, 2, 3, 4, 5, 6, 6, 3, 2, 3, 4, 5, 6, 2, 3, 4, 5, 3, 4, 5, 6, 5, 1, 2, 3, 5, 6, 1, 3, 1, 2, 3, 4, 5, 6, 1, 3, 4, 5, 6, 1, 4, 1, 2, 3, 4, 5, 6, 1, 2, 3, 4, 6, 1, 4, 2, 3, 4, 5, 6, 1, 2, 4, 6, 5, 1, 2, 3, 4, 5, 6, 1, 2, 4, 6, 5, 1, 2, 3, 4, 5, 6, 1, 2, 3, 4, 5, 6, 4, 4, 3, 6, 2], \"Freq\": [0.21122073956995532, 0.7880158360879103, 0.0007385340544404032, 0.5897905709379653, 0.08947479002680943, 0.17740157330575018, 0.11114688449697087, 0.032198540355668444, 0.9976091121866578, 0.24484411708412068, 0.06718558645586369, 0.6596812952008629, 0.028407328501472567, 0.8039495946699049, 0.10269909660047917, 0.04792624508022362, 0.038972990504797224, 0.00658327542310764, 0.993064355624376, 0.08815794448290312, 0.26875247989479567, 0.15581404141164273, 0.14993090254827407, 0.19690687498759657, 0.1403930865122067, 0.4972580571986987, 0.10093966547624458, 0.06522636860012856, 0.21328774523235955, 0.09002726920854245, 0.03323320681527463, 0.12228686419752749, 0.7703646357809397, 0.011930425775368536, 0.012782599045037717, 0.08266080715791058, 0.6905129025771753, 0.0902045121013728, 0.001582535300024084, 0.2178623596366489, 0.0005275117666746947, 0.9887452845361868, 0.988473138062259, 0.9976807690281372, 0.9993601208665812, 0.06239799033806965, 0.03047901835744171, 0.72429667246267, 0.04751846956514535, 0.10127673816409766, 0.033838910144876236, 0.9916948348339366, 0.99767901789888, 0.9882691007596848, 0.09853598667964301, 0.3933570577388766, 0.0039344448984773165, 0.06959595864862098, 0.30155334344107254, 0.1331591017862434, 0.12152055299937878, 0.023204929718474338, 0.6988958437577337, 0.12426850520288232, 0.03205944237420797, 0.03060085057505363, 0.9185398172612737, 0.04268690080217565, 0.007971650149803887, 0.9972667467139916, 0.9967244723289187, 0.9901842594470832, 0.23796406869071804, 0.7608974542085922, 0.007675142395813434, 0.24341165883865462, 0.07291385276022762, 0.675960755288426, 0.1957342107826425, 0.12503685130705727, 0.5121357054879558, 0.15864890811002966, 0.0004481607573729651, 0.008178933822056613, 0.9972337542786784, 0.998251822177162, 0.9934211122156862, 0.3462542526713503, 0.14755316078567499, 0.01724087565168549, 0.1353408738657311, 0.21694768528370909, 0.13649026557584346, 0.00010079419330117547, 0.0035277967655411415, 0.0480788302046607, 0.19080340791912517, 0.696185493131219, 0.06128286952711469, 0.08018671800648251, 0.920091187382075, 0.055955289872567225, 0.9428466343527577, 0.0009325881645427871, 0.9944182715807419, 0.7797635740393337, 0.13952931423015297, 0.0003479534020702069, 0.08002928247614759, 0.03709831371723707, 0.06946067249184813, 0.17286235540584935, 0.17595388154895242, 0.44906061657371893, 0.0955742018282721, 0.014911895474488365, 0.18477783522735583, 0.18866789491635277, 0.611387714454023, 0.4344972674820001, 0.16754087889233005, 0.06376851418833365, 0.18298791027956615, 0.14833110909025438, 0.002970582959083866, 0.10055172306404181, 0.09017584169720823, 0.1831814692217347, 0.16356162081899484, 0.46219835179531416, 0.9916156920488539, 0.8157476323977113, 0.06127117710203723, 0.12254235420407446, 0.005838770196749381, 0.19959944042961772, 0.02984260322783017, 0.28415348290846987, 0.47012912621233904, 0.010380035905332232, 0.6597438451354939, 0.32549309173720165, 0.002006964130666602, 0.012589138637817776, 0.9923818060577664, 0.9967603692488323, 0.08994717471159426, 0.2795674617318534, 0.0028396898093636705, 0.1394997618849903, 0.09534258534938524, 0.3928710851254638, 0.9969219417237712, 0.999287400459587, 0.9516286583336458, 0.047058560027487976, 0.7579135288889302, 0.24200578945150875, 0.9920609691132641, 0.9748501284090402, 0.024737432306873808, 0.0002906045128101303, 0.01772687528141795, 0.9706190727858353, 0.011042971486784953, 0.10951965623372806, 0.03600646232341744, 0.7298809966809411, 0.0378817989027621, 0.009751750212592223, 0.076888799753131, 0.9943482389031071, 0.9951481797801118, 0.7570027876296306, 0.2401512887955476, 0.0028703341290304495, 0.9957212221806214, 0.004008078525166389, 0.21447383892007557, 0.7853114145610628, 0.9978596638257078, 0.9936055152705581, 0.10796708710495306, 0.8663383133963704, 0.02601616556745857, 0.9443022329073648, 0.05265625834055938, 0.9938614112515426, 0.992412042352927, 0.9920155780604023, 0.051293186819204854, 0.6552482246846401, 0.2873011446694191, 0.0059298481871913125, 0.09628312400364177, 0.8981227437424721, 0.005067532842296935, 0.9985973440118694, 0.950271244298398, 0.04873185868196913, 0.9069782275764475, 0.08419558914082831, 0.00750257725017282, 0.10506652614319753, 0.10771208615399747, 0.6394696483247849, 0.09146078894479785, 0.03458124871259918, 0.02173138580299949, 0.09838230995691721, 0.8894292616375353, 0.0023266086814135827, 0.009971180063201069, 0.997094413692265, 0.9976854934744492, 0.9902879329762004, 0.9958186129019275, 0.14204595720041638, 0.33289297945128254, 0.00244005325252249, 0.4650044341235716, 0.057515540952315834, 0.11815004528786585, 0.3148379475247837, 0.01977176818297813, 0.2755690190502577, 0.257307594270146, 0.014279610354373095, 0.04698106951036694, 0.9236478265738141, 0.028188641706220166, 0.017494602751650195, 0.5722784017228996, 0.013711985940482584, 0.24650052886108922, 0.14184813041878536, 0.00788045168993252, 0.06866522481836917, 0.03912084025260202, 0.010187718815781776, 0.8820526950703862, 0.2544409604662231, 0.2653549654888053, 0.20039691149897884, 0.2573338292673895, 0.022353986190830972, 0.5293178524165536, 0.09389953683279958, 0.15662007687941862, 0.2073765832755265, 0.011601487176253231, 0.001450185897031654, 0.9957472185701147, 0.9950821654576549, 0.008029767075738903, 0.7547981051194569, 0.012353487808829082, 0.22421580373024785, 0.9937849274754212, 0.9890699625383352, 0.06976883309666974, 0.0874330779683867, 0.4479218294565544, 0.1254260068824148, 0.240687671743674, 0.028815416215314804, 0.9961822627521127, 0.9988745641710887, 0.024137815078064513, 0.9744054823618674, 0.12968007746414856, 0.8593086451745228, 0.009975390574165273, 0.9972248728159497, 0.9872486384450974, 0.1158731678172939, 0.08326215651542077, 0.8000105538523345, 0.08481387598468677, 0.23765106367282793, 0.3985965153087437, 0.14759910566878232, 0.029491119314472306, 0.10181970391055037, 0.9916028680189125, 0.9970073270363137, 0.993808318761901, 0.17024020805115095, 0.056403761238925286, 0.5983662697270399, 0.00037415430340912294, 0.15274849436677443, 0.02188802674943369, 0.9891500734596456, 0.2234302065502639, 0.7761259806482851, 0.1022350431798696, 0.8592094054478402, 0.036978632639527304, 0.9984510922703254, 0.9983697096248766, 0.7879500965201665, 0.21214041060158326, 0.9950620960896366, 0.09056027810348194, 0.8138477763072809, 0.0955781299245192, 0.37473096352718166, 0.0826084232695704, 0.03471948224373249, 0.09098898794909203, 0.019554650918883813, 0.39747821051445464, 0.04456820072901043, 0.8553666216837001, 0.08999348224127106, 0.009427888615752205, 0.9930120357433778, 0.9901483876677315, 0.9964474527051705, 0.9851170405295528, 0.011821404486354634, 0.03433932962018495, 0.6552826202750889, 0.23848506901357802, 0.04001004460333475, 0.03181901184989614, 0.9992440962421595, 0.9965547958910016, 0.9981838196387117, 0.5447786990889305, 0.22125978725455733, 0.15519858287998603, 0.009501954053876695, 0.0692285223925302, 0.061598596717598396, 0.0030799298358799194, 0.9332187402716157, 0.047223768999506324, 0.2056986257033711, 0.02056986257033711, 0.24133373973367342, 0.23351139762946072, 0.251763529205957, 0.1294732182470098, 0.08422395744306882, 0.44597671448364234, 0.09303248021290267, 0.19752810649613706, 0.049834519232073674, 0.9959374132336589, 0.3847838034272805, 0.10007114318991478, 0.1951273315958247, 0.1520443109514195, 0.11124081520883465, 0.05676017005532752, 0.6542868885274932, 0.058158834535777165, 0.19892964994623782, 0.07468123071071386, 0.0006608958469974678, 0.013217916939949356, 0.41067058094827374, 0.19396644388291348, 0.3076549097951474, 0.08747051356920858, 0.00046403455474381213, 0.8872611638319329, 0.05127388635209663, 0.06242038338516111, 0.5171323989149166, 0.0121773720309635, 0.2707435714884218, 0.0647430279646226, 0.1353717857442109, 0.9909883068871445, 0.9916564772727452, 0.9956715930712919, 0.9962477000439244, 0.44600546284795434, 0.16294404125638332, 0.1492597827371847, 0.05346997310279452, 0.010389899986798935, 0.1778953607495818, 0.7996300549237566, 0.1410061927209303, 0.026773327731822207, 0.03212799327818665, 0.4407864111846729, 0.028446918549298376, 0.10843627367801856, 0.10533809443007518, 0.3168592412669374, 0.9843897770517787, 0.015018429330887054, 0.16878712511551883, 0.04115709847761589, 0.46491746782031607, 0.17739139657425385, 0.14254409716637698, 0.0051625628752410176, 0.9987186903403744, 0.9985213212973123, 0.0002106028031704882, 0.06897241803833488, 0.22555560219559287, 0.23461152273192387, 0.4294191156646255, 0.04117284801983045, 0.32612246421651414, 0.24349392964195593, 0.01203644007582147, 0.06099547335720339, 0.11223167097725424, 0.24528313019376724, 0.007258000350333363, 0.4478543166992586, 0.0023796722460109384, 0.060324691436377295, 0.2188108630207058, 0.2633107340211103, 0.11590863456391673, 0.047530878921893914, 0.11424088442630642, 0.14426038690329204, 0.5770415476131682, 0.027241454801337182, 0.0603203642029609, 0.14593636500716348, 0.7660037647709336, 0.3703714238936015, 0.24099003245633369, 0.261724907944236, 0.12504399401377805, 0.001692642896971615, 0.19089864593751316, 0.12723091572067552, 0.5973684900804765, 0.0054363250759861355, 0.0745403803688099, 0.004495422658988535, 0.998681052393743, 0.04320359273449935, 0.11164114228737884, 0.2882788400160399, 0.04702691952516301, 0.18772534542158567, 0.3223064484529465, 0.0008184317916685884, 0.9960314904606721, 0.0024552953750057653, 0.9918762295001001, 0.933719540000694, 0.04866061046831412, 0.016925429728109256, 0.9976936542145094, 0.9978880896772482, 0.996658463263478, 0.9982281402136364, 0.02545259825613977, 0.21785076893583605, 0.42763299087404855, 0.12748304256245221, 0.1602706835437043, 0.04129629054238239, 0.9966915292801356, 0.9958281656135377, 0.04886756525735854, 0.27997155589177003, 0.025111745520706996, 0.2690699125879642, 0.352811889011229, 0.024135478956187072, 0.02516944413688249, 0.1226648771728526, 0.5820795586598572, 0.1326458636409267, 0.11731275399432012, 0.020251276891744534, 0.9972178141201766, 0.9942716698597254, 0.3557420177855663, 0.2822442868857293, 0.00027857636474985613, 0.259493883764491, 0.09959105039807357, 0.0026464754651236333, 0.9944137744180124, 0.9872860500525295, 0.193954404001537, 0.8058415175543735, 0.9989756691838353, 0.12411393557839105, 0.8749266322871764, 0.31826535201747247, 0.2698813428606388, 0.34746023572966955, 0.06359824433079553, 0.000822391090484425, 0.016273378030501825, 0.9159587062882455, 0.05928159139682807, 0.008136689015250912, 0.9954399864110566, 0.9884375168399625, 0.8671789757040523, 0.13165093360523566, 0.019360585677834698, 0.05714495450070564, 0.06713751485055582, 0.037784368822870944, 0.33225263163251806, 0.4862005145223972, 0.1779757331919569, 0.23032668668373762, 0.1619052661023873, 0.2108920517754177, 0.21859587101835531, 0.00030014880167289476, 0.9981875145163374, 0.23886005855724804, 0.05608859674623638, 0.7049756384139021, 0.9920527319863451, 0.9881306219752249, 0.9965129053474691, 0.997995249444408, 0.2652040880545377, 0.03493706549221455, 0.037848487616565764, 0.6145747429766832, 0.04711210346677416, 0.1024169436318758, 0.09461244391661254, 0.4145969322424063, 0.12651504801584657, 0.22701509698081562, 0.03491486714723039, 0.000910807564311841, 0.2823503449366707, 0.1156725606676038, 0.6002221848815031, 0.9938746948896147, 0.9945721986708284, 0.9981373561852456, 0.02490886288545599, 0.9223011392722894, 0.04375881317715241, 0.008078550125012754, 0.1975761451250836, 0.1451499996859525, 0.1404551209899109, 0.5164366565645749, 0.9419725090896458, 0.02587000428840707, 0.03043529916283185, 0.000874473516807435, 0.15215839192449368, 0.00524684110084461, 0.8421179966855599, 0.008488196675224465, 0.9846308143260379, 0.9850457533953983, 0.9919520495261058, 0.9542742541640772, 0.04525950036449531, 0.04188092679911899, 0.013241763620309682, 0.8222211364238803, 0.05450679443708869, 0.00708280379690983, 0.06097370225165854, 0.025729420524165138, 0.012578827811814066, 0.8393508739883204, 0.08919532448377247, 0.029160009927387154, 0.0034305894032220182, 0.9928259452304642, 0.9994117822893709, 0.9929097245175589, 0.006546657524291597, 0.15722058721353646, 0.05133546042778439, 0.29910482041734127, 0.060702574852889955, 0.4133468826215699, 0.018275056574470653, 0.09885955915512445, 0.026523296358691925, 0.020495274458989216, 0.1494949431126272, 0.7040729578852766, 0.10811302467592007, 0.1647569768023724, 0.0939870020468542, 0.07076997475551819, 0.5148305871048665, 0.047552947464182184, 0.04224403160826943, 0.595777116746303, 0.20576931525318334, 0.15616664588089277, 0.13088260965967327, 0.2891060662935277, 0.0005197879652886151, 0.3772621052064768, 0.20224949729380012, 0.9928144437054007, 0.9950700523442803, 0.9918548047705361, 0.9991542413192868, 0.7547143984859362, 0.09764668761712865, 0.027719059710668778, 0.06425782023836853, 0.055438119421337556, 0.0006299786297879268, 0.5926163270805783, 0.11552634761195614, 0.22041847075753976, 0.07105595438894374, 0.9925315386166725, 0.018733279227430632, 0.3611776235048626, 0.6196968768434054, 0.06379940293760723, 0.9366912340385062, 0.3719651323197556, 0.02067536504916809, 0.4351398588588803, 0.08136139023978184, 0.041159291533066106, 0.04977402697021948, 0.9979041645105587, 0.9943803889428272, 0.354055422295252, 0.06596050680020522, 0.32796519397873625, 0.04813830858399378, 0.1447823937564393, 0.058978614715503835, 0.014135280034619446, 0.9854309509848986, 0.999183539355929, 0.04351922943095487, 0.9550053125126208, 0.19380895639821016, 0.8061480068104763, 0.9991896125310915, 0.9921286706670117, 0.9971210199758265, 0.8939632961573236, 0.10452232455071368, 0.0016995499926945315, 0.9929713158881451, 0.12765097217177615, 0.8238093667992975, 0.048691607941811516, 0.9586495267280528, 0.038655222851937614, 0.9945925837150412, 0.8576863707243393, 0.14180185487927455, 0.07634421683170162, 0.92264779122215, 0.99908326857191, 0.9939442893396295, 0.0896902877227556, 0.8109187997412779, 0.05040445921609405, 0.04669824897961655, 0.002223726141886502, 0.04628584796465656, 0.951431319273496, 0.008521765056467397, 0.4157403952548023, 0.3609576198917976, 0.1676961623611977, 0.005173928784283776, 0.04184795340229525, 0.9973926749897666, 0.06792258081581239, 0.16961014400249105, 0.4656426638586907, 0.05280686196373853, 0.02316434837071058, 0.22084654166991022, 0.08943690202024199, 0.13291520022910353, 0.16530507339140973, 0.2242488065336247, 0.38313426542439716, 0.004960611205037892, 0.9975854840433328, 0.9610659919262018, 0.037250619842100846, 0.9954764765198484, 0.13119615931303585, 0.18126219995768303, 0.1483805429006375, 0.12607389112826997, 0.4063115311722357, 0.006939847218069906, 0.10904586582050808, 0.02364614653097039, 0.7213051805438985, 0.09243493643924788, 0.04553348877451323, 0.007816907944122443, 0.07229293283084437, 0.0003063259865713745, 0.1236025355815496, 0.6014710746328937, 0.20186882515053578, 0.000612651973142749, 0.07374551219714291, 0.21110454448086474, 0.4241328849320898, 0.1508256040762436, 0.10568052530512306, 0.034371821337103134, 0.13535600680300716, 0.3179742355386141, 0.03140409198427703, 0.08940489010235528, 0.37585016649174496, 0.05007173314391685, 0.047940633900765715, 0.2226874899665162, 0.3337762315779617, 0.17368047832907968, 0.20525453218441958, 0.016644765541948638, 0.12599686003188762, 0.1055303650013272, 0.21319265656833777, 0.5553668703605199, 0.9885904375769297, 0.9917334465656367, 0.0066559291715814544, 0.060298812462488346, 0.8307836383720617, 0.003349934025693797, 0.10496459947173897, 0.9996454574011904, 0.999694827724559, 0.9933390909108191, 0.08355861029537844, 0.11757361979615195, 0.14179082764724613, 0.05453493371047929, 0.5989599499049251, 0.003512419459319005, 0.10764204619754804, 0.11643790846780108, 0.3526926237145371, 0.08280982527604094, 0.2647340010120065, 0.07573022881461774, 0.01207307777046275, 0.9865429263863847, 0.9029046752049406, 0.05882115147914922, 0.036763219674468266, 0.09899423141825395, 0.2071304103289588, 0.028993033476058545, 0.15201752687446912, 0.5124714565768186, 0.0005223969995686224, 0.10558335496672938, 0.8933976189492486, 0.9982082256147865, 0.9977497363690655, 0.9877972300978897, 0.003319943860356936, 0.56483311544206, 0.05555372726330606, 0.35169271960714477, 0.004205262223118786, 0.019919663162141617, 0.8046508655363777, 0.07745608360132628, 0.11772867064367022, 0.00011441075864302256, 0.9927674780471214, 0.997694759591748, 0.9861122885000675, 0.06800373162510064, 0.9302910486313766, 0.9986326107596821, 0.06346907734899399, 0.13762768351466065, 0.4805277250869887, 0.1160816019935548, 0.18689973040401126, 0.015199173786206456, 0.98976444728159, 0.9458076831122822, 0.04304207541350221, 0.011179759847662911, 0.998527733031062, 0.9978097992316974, 0.14862782296466345, 0.2891670569244473, 0.15850523453792995, 0.16208287967470364, 0.23643567860417422, 0.005288692810882844, 0.0024707116373014503, 0.0840041956682493, 0.9116925941642351, 0.09121682657523102, 0.7794552598744126, 0.0033645550785945865, 0.1259838957207084, 0.9978878197017848, 0.9968232499651869, 0.2034087925524055, 0.3122503394444821, 0.00014869063783070577, 0.17634709646721705, 0.3077896203095609, 0.9944640959966081, 0.9975786600356816, 0.9961255909874079, 0.9947060454616276, 0.8999334176845951, 0.09958279621919701, 0.0025804014737694134, 0.2590723079664491, 0.06076845470726968, 0.26281389010341477, 0.41221913543466376, 0.0024513814000809426, 0.15006418550608844, 0.8491867438638651, 0.768572267402029, 0.05269641678176913, 0.06661622498827419, 0.11235273766679078, 0.4382463240307457, 0.012615351004639739, 0.04195975442847565, 0.5070822610343234, 0.9961590701763109, 0.17350268715406716, 0.13424375102869684, 0.13435280362904511, 0.2554011900156036, 0.2899708643259991, 0.012431996439700603, 0.139700753555545, 0.005387907850627081, 0.1616372355188124, 0.5214725098285495, 0.04926087177716188, 0.12238247832138655, 0.9928581633978164, 0.998699780349393, 0.9959038627739687, 0.9981048818938125, 0.9979428227889185, 0.9953212203965064, 0.9982772087338464, 0.0679266163713508, 0.0037737009095194893, 0.0679266163713508, 0.03207645773091566, 0.8283273496395279, 0.9253128617667097, 0.07167916534812539, 0.004344191839280327, 0.1617947410412677, 0.0020903713312825285, 0.8357304582467548, 0.0004180742662565057, 0.888738550895116, 0.11092425181368695, 0.9959186666949901, 0.25454725671234724, 0.4743663189215601, 0.09756067720090335, 0.10891594515833147, 0.0645357728913832, 0.05876274202366239, 0.43652322646149205, 0.16092438246911317, 0.2266562906626978, 0.10675495451199044, 0.010453749254883337, 0.996212872575239, 0.9920132298264469, 0.08022678393124842, 0.10218597915546933, 0.27183969260328633, 0.16445417986598998, 0.3511073392718676, 0.03018758331973356, 0.9990400912611848, 0.9884934913743273, 0.996060780750091, 0.9913133252257296, 0.00870207495397601, 0.9163768375145293, 0.03480829981590404, 0.03795071577150649, 0.0021755187384940025, 0.9966537878671584, 0.3473961641264901, 0.5532693522998783, 0.09925604689328289, 0.00023745465763943275, 0.9938391111476367, 0.9972535943463119, 0.9962858994046119, 0.9954489157373428, 0.15245960881708112, 0.8307679282846936, 0.015519840418505265, 0.4846461996787746, 0.07969680604940885, 0.2039470072878848, 0.039432315282277794, 0.1901841050383885, 0.0020484319627157295, 0.21943087519900023, 0.7803356404548716, 0.10806781067123283, 0.07959609901361957, 0.7325750627232611, 0.07959609901361957, 0.004377241872043469, 0.8776369953447155, 0.11453782898513744, 0.0007295403120072449, 0.0029181612480289796, 0.010049183088373272, 0.9848199426605806, 0.0006071659372103351, 0.10534329010599314, 0.007589574215129189, 0.31279165198619097, 0.4686309092035103, 0.10493851281451957, 0.8454084189314302, 0.09883371804054489, 0.056259193346156325, 0.9693489400052231, 0.028887882318036448, 0.16098977725519645, 0.10196019226162442, 0.7378698124196503, 0.9959892727363561, 0.02370534154294005, 0.22032023316379573, 0.7557820656631474, 0.9965259171161119, 0.0032265005708698143, 0.938373916027971, 0.054312759609641874, 0.004302000761159753, 0.029939964454953998, 0.9700548483405096, 0.9949694428692929, 0.99141096771681, 0.9093449147510387, 0.0008710200332864356, 0.01393632053258297, 0.07490772286263346, 0.5766531754257411, 0.08039398831236666, 0.07642391481545967, 0.05111469627267757, 0.20495504427782363, 0.010421442929380863, 0.9964415036411043, 0.015316999364660449, 0.9828407925657122, 0.9902205016959488, 0.9367064914951359, 0.06077866547869202, 0.9997568942065725, 0.027042946209188373, 0.25600655744698325, 0.06971070578368559, 0.5829257293980604, 0.04987921189694744, 0.01382195028469628, 0.9952739181477774, 0.4035731064738696, 0.16104871268297216, 0.0856615100802577, 0.22379386616722804, 0.12540574476705052, 0.0004650921080369372, 0.14796688996014748, 0.1524964886323969, 0.06907637975180354, 0.6307466151107307, 0.0691056024446903, 0.08215888290646514, 0.08523024301511804, 0.7171625853704527, 0.03378496119518193, 0.013053280461774836, 0.44387526759207463, 0.5143797934435912, 0.04169622496595064, 0.29602441101203786, 0.1732279754223757, 0.2022194701042366, 0.1712547323288459, 0.15691077291818695, 0.00034152284311092686, 0.23645441565596576, 0.19071246626090177, 0.10370595405177209, 0.22635004323668576, 0.24153685447763953, 0.0012101044813508995, 0.9922820734913024, 0.549720006276205, 0.020085404839419948, 0.290092558486119, 0.12644368952601281, 0.013480137476120771, 0.1056762896765815, 0.8941839895710743, 0.39925002001736287, 0.0004107510494005791, 0.05524601614437789, 0.047852497255167464, 0.15690690087102122, 0.3403072444283798, 0.9660230730084205, 0.033829601778505, 0.008559801017356596, 0.09476922554930516, 0.10271761220827914, 0.7936158371806329, 0.059327050493550984, 0.9399266038978275, 0.9957814469025627, 0.0018057820722924168, 0.9173372927245478, 0.07945441118086634, 0.9956666172248992, 0.039690578782284706, 0.11572232041585964, 0.11605726200895909, 0.6095936994409973, 0.10081741952293416, 0.01808684602737025, 0.7734497259872367, 0.2249431151510158, 0.0011080941633054967, 0.06966871119375576, 0.9296418649916784, 0.9978175754473696, 0.014714322739078873, 0.9840203331758997, 0.1971632972163157, 0.06655091092907627, 0.2778210097138994, 0.37269616536092, 0.0830365064875673, 0.002766039523236752, 0.10139248897096112, 0.1802533137261531, 0.7180485622446428, 0.9981881630559984, 0.9998239686539214, 0.7832622781142126, 0.03417618132466288, 0.18204047603544923, 0.9978149686190554, 0.8061612270760079, 0.14226374595458963, 0.04742124865152987, 0.00379369989212239, 0.33796186605791806, 0.17157493857984218, 0.15749319416076227, 0.3036839355641051, 0.02890463328126931, 0.00037057222155473474, 0.971664660915227, 0.0277090682770502, 0.006180816726585833, 0.013391769574269305, 0.7020377665280408, 0.2783942867266369, 0.055005724519276454, 0.13668475860822524, 0.2879185951635445, 0.11728598801209991, 0.21619419335418635, 0.18684079047847038, 0.22690404039046777, 0.06476871918297543, 0.5657654382257931, 0.11722426427951707, 0.025338092339713465, 0.9970055006429724, 0.9977168039027021, 0.21621060537335848, 0.7831777346341469, 0.9953210053943765, 0.9981241786820924, 0.9958789414361631, 0.22608590045262272, 0.3088065889008253, 0.007142288641524554, 0.25517449419265, 0.20206183865840377, 0.0006492989674113231, 0.999094536149268, 0.9991866790246268, 0.6477403230614829, 0.027609017273348534, 0.2914705385204649, 0.014750022926857436, 0.018406011515565687, 0.7370515748621888, 0.021588973038668, 0.23808400173484334, 0.003228257650641944, 0.1443941792637832, 0.017167885432636646, 0.8375475536064878, 0.0006131387654513087, 0.9987104063069202, 0.0014959704675442645, 0.050008155629336845, 0.12373812867258988, 0.412674138975425, 0.41181929870825684, 0.8309718178205215, 0.1685461705956718, 0.4360287577192462, 0.26218553855748516, 0.15524483613108234, 0.05553683821661015, 0.08575921064146312, 0.005166217508521875, 0.7312934148385384, 0.07155101037269153, 0.14415424148615794, 0.005261103703874377, 0.04734993333486939, 0.9496200403631059, 0.04828576476422572, 0.26785590216323024, 0.20729348080938606, 0.09328737885732494, 0.15501854869343631, 0.22068096342444635, 0.05588742742477554, 0.17055828130230508, 0.05094333372231334, 0.698942538670139, 0.05603766709454468, 0.023433933512264138, 0.9938304802527709, 0.9991105219427332, 0.03778032530725216, 0.1732082606394022, 0.13688102476704436, 0.6344188472748574, 0.017727691105710628, 0.6370493997362643, 0.0018358772326693496, 0.008567427085790297, 0.3524884286725151, 0.9890046308479998, 0.023683357729804434, 0.7038693917297878, 0.05494538993314629, 0.2024137640640619, 0.0012631124122562364, 0.01421001463788266, 0.789707322493743, 0.11481447580356069, 0.08714450518054191, 0.00826918662297113, 0.9994218813755237, 0.12123116165574062, 0.145161421622282, 0.34575740662336757, 0.19120974711129654, 0.19241787674067531, 0.004274920227032632, 0.5301155240423142, 0.001918970222777608, 0.19021792333283039, 0.1201755102014477, 0.15759542954561107, 0.9964848756651906, 0.9995869901518877, 0.9954049943644656, 0.048162353539399114, 0.9504037765108091, 0.9931636270292349], \"Term\": [\"ac\", \"ac\", \"ac\", \"across\", \"across\", \"across\", \"across\", \"across\", \"affinia\", \"air\", \"air\", \"air\", \"air\", \"airport\", \"airport\", \"airport\", \"airport\", \"airport\", \"aloft\", \"also\", \"also\", \"also\", \"also\", \"also\", \"also\", \"always\", \"always\", \"always\", \"always\", \"always\", \"always\", \"am\", \"am\", \"am\", \"am\", \"am\", \"amazing\", \"amazing\", \"amazing\", \"amazing\", \"amazing\", \"amtrak\", \"ancient\", \"angeles\", \"anniversary\", \"another\", \"another\", \"another\", \"another\", \"another\", \"another\", \"apologize\", \"apology\", \"aquarium\", \"area\", \"area\", \"area\", \"area\", \"area\", \"area\", \"arrived\", \"arrived\", \"arrived\", \"arrived\", \"arrived\", \"asked\", \"asked\", \"asked\", \"asked\", \"assured\", \"astoria\", \"attendee\", \"avenue\", \"avenue\", \"average\", \"average\", \"average\", \"average\", \"back\", \"back\", \"back\", \"back\", \"back\", \"back\", \"bacon\", \"bagel\", \"bahia\", \"bar\", \"bar\", \"bar\", \"bar\", \"bar\", \"bar\", \"bathroom\", \"bathroom\", \"bathroom\", \"bathroom\", \"bathroom\", \"bathroom\", \"bay\", \"bay\", \"beach\", \"beach\", \"beach\", \"beale\", \"beautiful\", \"beautiful\", \"beautiful\", \"beautiful\", \"bed\", \"bed\", \"bed\", \"bed\", \"bed\", \"bed\", \"bedroom\", \"bedroom\", \"bedroom\", \"bedroom\", \"best\", \"best\", \"best\", \"best\", \"best\", \"best\", \"better\", \"better\", \"better\", \"better\", \"better\", \"biltmore\", \"birthday\", \"birthday\", \"birthday\", \"bit\", \"bit\", \"bit\", \"bit\", \"bit\", \"bit\", \"block\", \"block\", \"block\", \"block\", \"blowing\", \"bread\", \"breakfast\", \"breakfast\", \"breakfast\", \"breakfast\", \"breakfast\", \"breakfast\", \"brilliant\", \"broadway\", \"bug\", \"bug\", \"bus\", \"bus\", \"cabin\", \"call\", \"call\", \"called\", \"called\", \"called\", \"called\", \"came\", \"came\", \"came\", \"came\", \"came\", \"came\", \"cancel\", \"capitol\", \"car\", \"car\", \"car\", \"card\", \"card\", \"carpet\", \"carpet\", \"carpeting\", \"cash\", \"ceiling\", \"ceiling\", \"ceiling\", \"celebrate\", \"celebrate\", \"celebrating\", \"celebration\", \"celebrity\", \"center\", \"center\", \"center\", \"center\", \"central\", \"central\", \"central\", \"cereal\", \"champagne\", \"champagne\", \"charged\", \"charged\", \"charged\", \"check\", \"check\", \"check\", \"check\", \"check\", \"check\", \"checked\", \"checked\", \"checked\", \"checked\", \"chelsea\", \"chicken\", \"chipped\", \"cigarette\", \"city\", \"city\", \"city\", \"city\", \"city\", \"clean\", \"clean\", \"clean\", \"clean\", \"clean\", \"clean\", \"clerk\", \"clerk\", \"clerk\", \"close\", \"close\", \"close\", \"close\", \"close\", \"close\", \"coffee\", \"coffee\", \"coffee\", \"coffee\", \"comfortable\", \"comfortable\", \"comfortable\", \"comfortable\", \"comfortable\", \"concierge\", \"concierge\", \"concierge\", \"concierge\", \"concierge\", \"concierge\", \"confirmation\", \"confirmed\", \"convention\", \"convention\", \"convention\", \"convention\", \"cooked\", \"coronado\", \"could\", \"could\", \"could\", \"could\", \"could\", \"could\", \"cream\", \"credit\", \"cup\", \"cup\", \"curtain\", \"curtain\", \"curtain\", \"damage\", \"dana\", \"dark\", \"dark\", \"dark\", \"day\", \"day\", \"day\", \"day\", \"day\", \"day\", \"del\", \"dennys\", \"depressing\", \"desk\", \"desk\", \"desk\", \"desk\", \"desk\", \"desk\", \"desperate\", \"diego\", \"diego\", \"diner\", \"diner\", \"diner\", \"dingy\", \"dish\", \"distance\", \"distance\", \"dorm\", \"downtown\", \"downtown\", \"downtown\", \"drink\", \"drink\", \"drink\", \"drink\", \"drink\", \"drink\", \"drive\", \"drive\", \"drive\", \"drive\", \"drug\", \"drury\", \"dump\", \"dupont\", \"dupont\", \"easy\", \"easy\", \"easy\", \"easy\", \"easy\", \"egg\", \"elvis\", \"empire\", \"enjoyed\", \"enjoyed\", \"enjoyed\", \"enjoyed\", \"enjoyed\", \"equipment\", \"equipment\", \"equipment\", \"etc\", \"etc\", \"etc\", \"etc\", \"etc\", \"etc\", \"even\", \"even\", \"even\", \"even\", \"even\", \"even\", \"eventually\", \"every\", \"every\", \"every\", \"every\", \"every\", \"every\", \"everyone\", \"everyone\", \"everyone\", \"everyone\", \"everyone\", \"everyone\", \"excellent\", \"excellent\", \"excellent\", \"excellent\", \"excellent\", \"exceptional\", \"exceptional\", \"exceptional\", \"experience\", \"experience\", \"experience\", \"experience\", \"experience\", \"exterior\", \"fab\", \"failed\", \"fame\", \"family\", \"family\", \"family\", \"family\", \"family\", \"family\", \"favorite\", \"favorite\", \"favorite\", \"favorite\", \"feel\", \"feel\", \"feel\", \"feel\", \"feel\", \"finally\", \"finally\", \"first\", \"first\", \"first\", \"first\", \"first\", \"first\", \"fisherman\", \"fixture\", \"floor\", \"floor\", \"floor\", \"floor\", \"floor\", \"floor\", \"food\", \"food\", \"food\", \"food\", \"food\", \"food\", \"free\", \"free\", \"free\", \"free\", \"free\", \"free\", \"fresh\", \"fresh\", \"fresh\", \"fresh\", \"fresh\", \"fridge\", \"fridge\", \"fridge\", \"fridge\", \"friendly\", \"friendly\", \"friendly\", \"friendly\", \"friendly\", \"front\", \"front\", \"front\", \"front\", \"front\", \"front\", \"fruit\", \"full\", \"full\", \"full\", \"full\", \"full\", \"full\", \"furniture\", \"furniture\", \"furniture\", \"gap\", \"garage\", \"garage\", \"garage\", \"gaslamp\", \"gate\", \"genuine\", \"georgetown\", \"get\", \"get\", \"get\", \"get\", \"get\", \"get\", \"golden\", \"golf\", \"good\", \"good\", \"good\", \"good\", \"good\", \"good\", \"got\", \"got\", \"got\", \"got\", \"got\", \"got\", \"graceland\", \"gracious\", \"great\", \"great\", \"great\", \"great\", \"great\", \"great\", \"grout\", \"guestroom\", \"hallway\", \"hallway\", \"happened\", \"harbor\", \"harbor\", \"helpful\", \"helpful\", \"helpful\", \"helpful\", \"helpful\", \"hollywood\", \"hollywood\", \"hollywood\", \"hollywood\", \"hook\", \"hopkins\", \"hospitality\", \"hospitality\", \"hot\", \"hot\", \"hot\", \"hot\", \"hot\", \"hot\", \"hotel\", \"hotel\", \"hotel\", \"hotel\", \"hotel\", \"hotel\", \"hudson\", \"ice\", \"ice\", \"ice\", \"impeccable\", \"inadequate\", \"inconvenient\", \"informed\", \"internet\", \"internet\", \"internet\", \"internet\", \"internet\", \"it\", \"it\", \"it\", \"it\", \"it\", \"it\", \"item\", \"item\", \"item\", \"item\", \"jail\", \"jfk\", \"juice\", \"key\", \"key\", \"key\", \"key\", \"kid\", \"kid\", \"kid\", \"kid\", \"kimpton\", \"kimpton\", \"kimpton\", \"kitchen\", \"kitchen\", \"kitchen\", \"kitchen\", \"knocking\", \"knocking\", \"kodak\", \"laquinta\", \"later\", \"later\", \"left\", \"left\", \"left\", \"left\", \"left\", \"left\", \"let\", \"let\", \"let\", \"let\", \"let\", \"let\", \"lexington\", \"lift\", \"lighting\", \"lighting\", \"like\", \"like\", \"like\", \"like\", \"like\", \"like\", \"living\", \"living\", \"living\", \"living\", \"living\", \"lobby\", \"lobby\", \"lobby\", \"lobby\", \"lobby\", \"lobby\", \"located\", \"located\", \"located\", \"located\", \"location\", \"location\", \"location\", \"location\", \"location\", \"lodge\", \"lombard\", \"loop\", \"los\", \"love\", \"love\", \"love\", \"love\", \"love\", \"love\", \"loved\", \"loved\", \"loved\", \"loved\", \"lumpy\", \"machine\", \"machine\", \"machine\", \"macys\", \"macys\", \"made\", \"made\", \"made\", \"made\", \"made\", \"made\", \"madison\", \"magnolia\", \"make\", \"make\", \"make\", \"make\", \"make\", \"make\", \"maker\", \"maker\", \"mall\", \"man\", \"man\", \"manager\", \"manager\", \"manhattan\", \"mar\", \"marina\", \"market\", \"market\", \"market\", \"marriotts\", \"mattress\", \"mattress\", \"mattress\", \"memorable\", \"memorable\", \"message\", \"metro\", \"metro\", \"microwave\", \"microwave\", \"midtown\", \"mildew\", \"mile\", \"mile\", \"mile\", \"mile\", \"mile\", \"milk\", \"milk\", \"minute\", \"minute\", \"minute\", \"minute\", \"minute\", \"minute\", \"mistake\", \"morning\", \"morning\", \"morning\", \"morning\", \"morning\", \"morning\", \"much\", \"much\", \"much\", \"much\", \"much\", \"much\", \"muffin\", \"museum\", \"museum\", \"navy\", \"need\", \"need\", \"need\", \"need\", \"need\", \"need\", \"never\", \"never\", \"never\", \"never\", \"never\", \"never\", \"new\", \"new\", \"new\", \"new\", \"new\", \"new\", \"next\", \"next\", \"next\", \"next\", \"next\", \"next\", \"nice\", \"nice\", \"nice\", \"nice\", \"nice\", \"nice\", \"night\", \"night\", \"night\", \"night\", \"night\", \"night\", \"noise\", \"noise\", \"noise\", \"noise\", \"nonexistent\", \"nonsmoking\", \"nonsmoking\", \"north\", \"north\", \"north\", \"north\", \"ny\", \"nyc\", \"oatmeal\", \"old\", \"old\", \"old\", \"old\", \"old\", \"old\", \"one\", \"one\", \"one\", \"one\", \"one\", \"one\", \"outdated\", \"outdated\", \"outstanding\", \"outstanding\", \"outstanding\", \"overall\", \"overall\", \"overall\", \"overall\", \"overall\", \"overall\", \"paint\", \"paint\", \"palomar\", \"pancake\", \"paradise\", \"park\", \"park\", \"park\", \"park\", \"park\", \"park\", \"parking\", \"parking\", \"parking\", \"parking\", \"partying\", \"pastry\", \"pc\", \"peeling\", \"peeling\", \"penn\", \"people\", \"people\", \"people\", \"people\", \"people\", \"people\", \"phenomenal\", \"phone\", \"phone\", \"phone\", \"pier\", \"pike\", \"place\", \"place\", \"place\", \"place\", \"place\", \"place\", \"plate\", \"plate\", \"plate\", \"pm\", \"pm\", \"pm\", \"pm\", \"pod\", \"policy\", \"pool\", \"pool\", \"pool\", \"pool\", \"pool\", \"poolside\", \"poorly\", \"pot\", \"powell\", \"pressure\", \"pressure\", \"price\", \"price\", \"price\", \"price\", \"price\", \"price\", \"pro\", \"pro\", \"professional\", \"professional\", \"professional\", \"professional\", \"property\", \"property\", \"property\", \"property\", \"prudential\", \"really\", \"really\", \"really\", \"really\", \"really\", \"really\", \"reception\", \"reception\", \"reception\", \"reception\", \"reception\", \"reception\", \"recieved\", \"refund\", \"refunded\", \"refurbishment\", \"refused\", \"regis\", \"remodel\", \"renovation\", \"renovation\", \"renovation\", \"renovation\", \"renovation\", \"rental\", \"rental\", \"rental\", \"reservation\", \"reservation\", \"reservation\", \"reservation\", \"resort\", \"resort\", \"response\", \"restaurant\", \"restaurant\", \"restaurant\", \"restaurant\", \"restaurant\", \"right\", \"right\", \"right\", \"right\", \"right\", \"right\", \"roach\", \"rockefeller\", \"room\", \"room\", \"room\", \"room\", \"room\", \"room\", \"rude\", \"rug\", \"rundown\", \"rust\", \"said\", \"said\", \"said\", \"said\", \"said\", \"salad\", \"san\", \"san\", \"san\", \"san\", \"santa\", \"sausage\", \"scrambled\", \"seaport\", \"seattle\", \"seattle\", \"seattle\", \"service\", \"service\", \"service\", \"service\", \"service\", \"service\", \"sf\", \"sf\", \"shower\", \"shower\", \"shower\", \"shower\", \"shuttle\", \"shuttle\", \"shuttle\", \"shuttle\", \"shuttle\", \"signal\", \"signal\", \"small\", \"small\", \"small\", \"small\", \"small\", \"small\", \"smile\", \"smile\", \"smile\", \"smoking\", \"smoking\", \"snack\", \"snack\", \"snack\", \"soda\", \"sofa\", \"sofa\", \"sofa\", \"soho\", \"someone\", \"someone\", \"someone\", \"someone\", \"sorry\", \"sorry\", \"sounded\", \"soundproofing\", \"spa\", \"spa\", \"spa\", \"spa\", \"special\", \"special\", \"special\", \"special\", \"special\", \"special\", \"speed\", \"spoke\", \"spoke\", \"spray\", \"sq\", \"sq\", \"square\", \"st\", \"st\", \"st\", \"st\", \"st\", \"st\", \"stadium\", \"staff\", \"staff\", \"staff\", \"staff\", \"staff\", \"staff\", \"star\", \"star\", \"star\", \"star\", \"state\", \"state\", \"state\", \"state\", \"state\", \"state\", \"station\", \"station\", \"station\", \"stay\", \"stay\", \"stay\", \"stay\", \"stay\", \"stay\", \"stayed\", \"stayed\", \"stayed\", \"stayed\", \"stayed\", \"stayed\", \"stove\", \"street\", \"street\", \"street\", \"street\", \"street\", \"subway\", \"subway\", \"suite\", \"suite\", \"suite\", \"suite\", \"suite\", \"suite\", \"supposed\", \"supposed\", \"table\", \"table\", \"table\", \"table\", \"tea\", \"tea\", \"telling\", \"temperature\", \"temperature\", \"temperature\", \"tenderloin\", \"th\", \"th\", \"th\", \"th\", \"th\", \"th\", \"thank\", \"thank\", \"thank\", \"thin\", \"thin\", \"tidy\", \"tile\", \"tile\", \"time\", \"time\", \"time\", \"time\", \"time\", \"time\", \"tiny\", \"tiny\", \"tiny\", \"toast\", \"told\", \"train\", \"train\", \"train\", \"trash\", \"treat\", \"treat\", \"treat\", \"treat\", \"trip\", \"trip\", \"trip\", \"trip\", \"trip\", \"trip\", \"trolley\", \"trolley\", \"tv\", \"tv\", \"tv\", \"tv\", \"two\", \"two\", \"two\", \"two\", \"two\", \"two\", \"u\", \"u\", \"u\", \"u\", \"u\", \"uk\", \"unacceptable\", \"union\", \"union\", \"universal\", \"upset\", \"usd\", \"view\", \"view\", \"view\", \"view\", \"view\", \"view\", \"waffle\", \"waited\", \"walk\", \"walk\", \"walk\", \"walk\", \"walk\", \"walking\", \"walking\", \"walking\", \"walking\", \"wall\", \"wall\", \"wall\", \"wall\", \"wallpaper\", \"water\", \"water\", \"water\", \"water\", \"water\", \"wedding\", \"wedding\", \"weekend\", \"weekend\", \"weekend\", \"weekend\", \"weekend\", \"weekend\", \"welcome\", \"welcome\", \"welcome\", \"welcome\", \"welcome\", \"welcomed\", \"welcomed\", \"well\", \"well\", \"well\", \"well\", \"well\", \"well\", \"went\", \"went\", \"went\", \"went\", \"went\", \"wheelchair\", \"whilst\", \"window\", \"window\", \"window\", \"window\", \"window\", \"wine\", \"wine\", \"wine\", \"wine\", \"wired\", \"within\", \"within\", \"within\", \"within\", \"within\", \"within\", \"wonderful\", \"wonderful\", \"wonderful\", \"wonderful\", \"worn\", \"would\", \"would\", \"would\", \"would\", \"would\", \"would\", \"year\", \"year\", \"year\", \"year\", \"year\", \"yogurt\", \"york\", \"yorker\", \"\\u2013\", \"\\u2013\", \"\\u2022\"]}, \"R\": 30, \"lambda.step\": 0.01, \"plot.opts\": {\"xlab\": \"PC1\", \"ylab\": \"PC2\"}, \"topic.order\": [1, 2, 3, 4, 5, 6]};\n",
       "\n",
       "function LDAvis_load_lib(url, callback){\n",
       "  var s = document.createElement('script');\n",
       "  s.src = url;\n",
       "  s.async = true;\n",
       "  s.onreadystatechange = s.onload = callback;\n",
       "  s.onerror = function(){console.warn(\"failed to load library \" + url);};\n",
       "  document.getElementsByTagName(\"head\")[0].appendChild(s);\n",
       "}\n",
       "\n",
       "if(typeof(LDAvis) !== \"undefined\"){\n",
       "   // already loaded: just create the visualization\n",
       "   !function(LDAvis){\n",
       "       new LDAvis(\"#\" + \"ldavis_el146361130213635689422080998\", ldavis_el146361130213635689422080998_data);\n",
       "   }(LDAvis);\n",
       "}else if(typeof define === \"function\" && define.amd){\n",
       "   // require.js is available: use it to load d3/LDAvis\n",
       "   require.config({paths: {d3: \"https://d3js.org/d3.v5\"}});\n",
       "   require([\"d3\"], function(d3){\n",
       "      window.d3 = d3;\n",
       "      LDAvis_load_lib(\"https://cdn.jsdelivr.net/gh/bmabey/pyLDAvis@3.3.1/pyLDAvis/js/ldavis.v3.0.0.js\", function(){\n",
       "        new LDAvis(\"#\" + \"ldavis_el146361130213635689422080998\", ldavis_el146361130213635689422080998_data);\n",
       "      });\n",
       "    });\n",
       "}else{\n",
       "    // require.js not available: dynamically load d3 & LDAvis\n",
       "    LDAvis_load_lib(\"https://d3js.org/d3.v5.js\", function(){\n",
       "         LDAvis_load_lib(\"https://cdn.jsdelivr.net/gh/bmabey/pyLDAvis@3.3.1/pyLDAvis/js/ldavis.v3.0.0.js\", function(){\n",
       "                 new LDAvis(\"#\" + \"ldavis_el146361130213635689422080998\", ldavis_el146361130213635689422080998_data);\n",
       "            })\n",
       "         });\n",
       "}\n",
       "</script>"
      ],
      "text/plain": [
       "<IPython.core.display.HTML object>"
      ]
     },
     "execution_count": 147,
     "metadata": {},
     "output_type": "execute_result"
    }
   ],
   "source": [
    "#lda = gensim.models.ldamodel.LdaModel.load('7topic15pass.gensim')\n",
    "#import pyLDAvis.gensim\n",
    "lda_display = pyLDAvis.gensim_models.prepare(ldamodel, term_matrix, dictionary, sort_topics=False)\n",
    "pyLDAvis.display(lda_display)"
   ]
  },
  {
   "cell_type": "markdown",
   "metadata": {},
   "source": [
    "## Categories \n",
    "\n",
    "The model cannot tell you how many topics are in the document, so a good aproach is to have an educated guess about the possible number of topics. Based on my search at hotel review sites, usually 5-8 areas were given to review. So I started with a 10 topic and reduced the number to 5 as in the case of 10, there are many overlaps between the topics. Above you can see the distributions, based on those I am suggesting categories: \n",
    "\n",
    "6- Food\n",
    "\n",
    "5- Room Quality / Amenities\n",
    "\n",
    "4- Parking / Transportation\n",
    "\n",
    "3- Staff /  Quality of Service\n",
    "\n",
    "2- Location/Transportation\n",
    "\n",
    "1- Special Events / Services"
   ]
  },
  {
   "cell_type": "code",
   "execution_count": 148,
   "metadata": {},
   "outputs": [],
   "source": [
    "categories = {0:\"Special Event Services\", 1:'Location', 2:'Service Quality' , 3:'Parking/Transportation', 4:'Room Quality', 5: 'Food' }\n",
    "categories = pd.DataFrame.from_dict(categories, orient='index', columns=['review_category']).reset_index().rename(columns={'index':'topics'})"
   ]
  },
  {
   "cell_type": "markdown",
   "metadata": {},
   "source": [
    "### Analysis of Review Topics per Hotel"
   ]
  },
  {
   "cell_type": "markdown",
   "metadata": {},
   "source": [
    "We need to apply the LDA model to the reviews and assign the categories to see which hotels have good and bad reviews in which category. "
   ]
  },
  {
   "cell_type": "markdown",
   "metadata": {},
   "source": [
    "### Assign topics to good reviews"
   ]
  },
  {
   "cell_type": "code",
   "execution_count": 149,
   "metadata": {},
   "outputs": [],
   "source": [
    "term_matrix = [dictionary.doc2bow(review) for review in good_cleaned]"
   ]
  },
  {
   "cell_type": "code",
   "execution_count": 150,
   "metadata": {},
   "outputs": [
    {
     "data": {
      "text/plain": [
       "<gensim.interfaces.TransformedCorpus at 0x1a653e1a20>"
      ]
     },
     "execution_count": 150,
     "metadata": {},
     "output_type": "execute_result"
    }
   ],
   "source": [
    "good_topics = ldamodel[term_matrix] # get topic probability distribution for a document"
   ]
  },
  {
   "cell_type": "code",
   "execution_count": 152,
   "metadata": {},
   "outputs": [],
   "source": [
    "topics=[]\n",
    "for i in range(len(good_cleaned)):\n",
    "    topics.append(sorted(np.array(good_topics[i]), key = lambda x: x[1],reverse=True)[0][0])"
   ]
  },
  {
   "cell_type": "code",
   "execution_count": 153,
   "metadata": {},
   "outputs": [],
   "source": [
    "good['topics']= topics\n",
    "good = good.merge(categories, on='topics')"
   ]
  },
  {
   "cell_type": "code",
   "execution_count": 154,
   "metadata": {},
   "outputs": [
    {
     "data": {
      "text/html": [
       "<div>\n",
       "<style scoped>\n",
       "    .dataframe tbody tr th:only-of-type {\n",
       "        vertical-align: middle;\n",
       "    }\n",
       "\n",
       "    .dataframe tbody tr th {\n",
       "        vertical-align: top;\n",
       "    }\n",
       "\n",
       "    .dataframe thead th {\n",
       "        text-align: right;\n",
       "    }\n",
       "</style>\n",
       "<table border=\"1\" class=\"dataframe\">\n",
       "  <thead>\n",
       "    <tr style=\"text-align: right;\">\n",
       "      <th></th>\n",
       "      <th>User_ID</th>\n",
       "      <th>Description</th>\n",
       "      <th>Is_Response</th>\n",
       "      <th>hotel_ID</th>\n",
       "      <th>topics</th>\n",
       "      <th>review_category</th>\n",
       "    </tr>\n",
       "  </thead>\n",
       "  <tbody>\n",
       "    <tr>\n",
       "      <th>25844</th>\n",
       "      <td>id10370</td>\n",
       "      <td>Comfortable rooms,a little glitzy for my taste...</td>\n",
       "      <td>happy</td>\n",
       "      <td>3</td>\n",
       "      <td>5.0</td>\n",
       "      <td>Food</td>\n",
       "    </tr>\n",
       "    <tr>\n",
       "      <th>25845</th>\n",
       "      <td>id10497</td>\n",
       "      <td>We had to stay here for almost - weeks while m...</td>\n",
       "      <td>happy</td>\n",
       "      <td>3</td>\n",
       "      <td>5.0</td>\n",
       "      <td>Food</td>\n",
       "    </tr>\n",
       "    <tr>\n",
       "      <th>25846</th>\n",
       "      <td>id10558</td>\n",
       "      <td>Lovely indoor pool area, looks like a lodge. S...</td>\n",
       "      <td>happy</td>\n",
       "      <td>7</td>\n",
       "      <td>5.0</td>\n",
       "      <td>Food</td>\n",
       "    </tr>\n",
       "    <tr>\n",
       "      <th>25847</th>\n",
       "      <td>id10563</td>\n",
       "      <td>I went on a --night business trip to Chicago a...</td>\n",
       "      <td>happy</td>\n",
       "      <td>4</td>\n",
       "      <td>5.0</td>\n",
       "      <td>Food</td>\n",
       "    </tr>\n",
       "    <tr>\n",
       "      <th>25848</th>\n",
       "      <td>id10645</td>\n",
       "      <td>The service was prompt and excellent. The room...</td>\n",
       "      <td>happy</td>\n",
       "      <td>1</td>\n",
       "      <td>5.0</td>\n",
       "      <td>Food</td>\n",
       "    </tr>\n",
       "  </tbody>\n",
       "</table>\n",
       "</div>"
      ],
      "text/plain": [
       "       User_ID                                        Description Is_Response  \\\n",
       "25844  id10370  Comfortable rooms,a little glitzy for my taste...       happy   \n",
       "25845  id10497  We had to stay here for almost - weeks while m...       happy   \n",
       "25846  id10558  Lovely indoor pool area, looks like a lodge. S...       happy   \n",
       "25847  id10563  I went on a --night business trip to Chicago a...       happy   \n",
       "25848  id10645  The service was prompt and excellent. The room...       happy   \n",
       "\n",
       "       hotel_ID  topics review_category  \n",
       "25844         3     5.0            Food  \n",
       "25845         3     5.0            Food  \n",
       "25846         7     5.0            Food  \n",
       "25847         4     5.0            Food  \n",
       "25848         1     5.0            Food  "
      ]
     },
     "execution_count": 154,
     "metadata": {},
     "output_type": "execute_result"
    }
   ],
   "source": [
    "good.query('topics==5').head()"
   ]
  },
  {
   "cell_type": "code",
   "execution_count": 155,
   "metadata": {},
   "outputs": [
    {
     "name": "stdout",
     "output_type": "stream",
     "text": [
      "Service Quality\n",
      "We arrived late at night and walked in to a check-in area that had been completely flooded. There were fans running everywhere and water damage on the ceilings and walls. The computers didn't work at the front desk and they had to work from a computer in the back office. I only mention this because with these conditions,it would have been understandable if the two women behind the front desk had been unfriendly, but it was just the opposite. They were so nice and checked us in as quickly as possible.\r\n",
      "The room was nice and clean. Breakfast was okay. Plenty of choices, but we got to breakfast kind of late . The biscuits were hard and the fruit seemed old. I'm sure it would have been better if we had arrived to breakfast earlier. \r\n",
      "I'd definitely stay here again.\n"
     ]
    }
   ],
   "source": [
    "print(good.review_category[25843])\n",
    "print((good.Description[25843]))"
   ]
  },
  {
   "cell_type": "markdown",
   "metadata": {},
   "source": [
    "### Assign topics to bad reviews"
   ]
  },
  {
   "cell_type": "code",
   "execution_count": 156,
   "metadata": {},
   "outputs": [],
   "source": [
    "term_matrix_2 = [dictionary.doc2bow(review) for review in bad_cleaned]\n",
    "bad_topics = ldamodel[term_matrix_2]  # get topic probability distribution for a document"
   ]
  },
  {
   "cell_type": "code",
   "execution_count": 157,
   "metadata": {},
   "outputs": [],
   "source": [
    "topics=[]\n",
    "for i in range(len(bad_cleaned)):\n",
    "    topics.append(sorted(np.array(bad_topics[i]), key = lambda x: x[1],reverse=True)[0][0])"
   ]
  },
  {
   "cell_type": "code",
   "execution_count": 158,
   "metadata": {},
   "outputs": [],
   "source": [
    "bad['topics']= topics\n",
    "bad = bad.merge(categories, on='topics')"
   ]
  },
  {
   "cell_type": "code",
   "execution_count": 159,
   "metadata": {},
   "outputs": [
    {
     "data": {
      "text/html": [
       "<div>\n",
       "<style scoped>\n",
       "    .dataframe tbody tr th:only-of-type {\n",
       "        vertical-align: middle;\n",
       "    }\n",
       "\n",
       "    .dataframe tbody tr th {\n",
       "        vertical-align: top;\n",
       "    }\n",
       "\n",
       "    .dataframe thead th {\n",
       "        text-align: right;\n",
       "    }\n",
       "</style>\n",
       "<table border=\"1\" class=\"dataframe\">\n",
       "  <thead>\n",
       "    <tr style=\"text-align: right;\">\n",
       "      <th></th>\n",
       "      <th>User_ID</th>\n",
       "      <th>Description</th>\n",
       "      <th>Is_Response</th>\n",
       "      <th>hotel_ID</th>\n",
       "      <th>topics</th>\n",
       "      <th>review_category</th>\n",
       "    </tr>\n",
       "  </thead>\n",
       "  <tbody>\n",
       "    <tr>\n",
       "      <th>0</th>\n",
       "      <td>id10326</td>\n",
       "      <td>The room was kind of clean but had a VERY stro...</td>\n",
       "      <td>not happy</td>\n",
       "      <td>3</td>\n",
       "      <td>4.0</td>\n",
       "      <td>Room Quality</td>\n",
       "    </tr>\n",
       "    <tr>\n",
       "      <th>1</th>\n",
       "      <td>id10327</td>\n",
       "      <td>I stayed at the Crown Plaza April -- - April -...</td>\n",
       "      <td>not happy</td>\n",
       "      <td>9</td>\n",
       "      <td>4.0</td>\n",
       "      <td>Room Quality</td>\n",
       "    </tr>\n",
       "    <tr>\n",
       "      <th>2</th>\n",
       "      <td>id10328</td>\n",
       "      <td>I booked this hotel through Hotwire at the low...</td>\n",
       "      <td>not happy</td>\n",
       "      <td>3</td>\n",
       "      <td>4.0</td>\n",
       "      <td>Room Quality</td>\n",
       "    </tr>\n",
       "    <tr>\n",
       "      <th>3</th>\n",
       "      <td>id10332</td>\n",
       "      <td>My husband and I have stayed in this hotel a f...</td>\n",
       "      <td>not happy</td>\n",
       "      <td>7</td>\n",
       "      <td>4.0</td>\n",
       "      <td>Room Quality</td>\n",
       "    </tr>\n",
       "    <tr>\n",
       "      <th>4</th>\n",
       "      <td>id10355</td>\n",
       "      <td>The public areas are nice to look at. The staf...</td>\n",
       "      <td>not happy</td>\n",
       "      <td>1</td>\n",
       "      <td>4.0</td>\n",
       "      <td>Room Quality</td>\n",
       "    </tr>\n",
       "  </tbody>\n",
       "</table>\n",
       "</div>"
      ],
      "text/plain": [
       "   User_ID                                        Description Is_Response  \\\n",
       "0  id10326  The room was kind of clean but had a VERY stro...   not happy   \n",
       "1  id10327  I stayed at the Crown Plaza April -- - April -...   not happy   \n",
       "2  id10328  I booked this hotel through Hotwire at the low...   not happy   \n",
       "3  id10332  My husband and I have stayed in this hotel a f...   not happy   \n",
       "4  id10355  The public areas are nice to look at. The staf...   not happy   \n",
       "\n",
       "   hotel_ID  topics review_category  \n",
       "0         3     4.0    Room Quality  \n",
       "1         9     4.0    Room Quality  \n",
       "2         3     4.0    Room Quality  \n",
       "3         7     4.0    Room Quality  \n",
       "4         1     4.0    Room Quality  "
      ]
     },
     "execution_count": 159,
     "metadata": {},
     "output_type": "execute_result"
    }
   ],
   "source": [
    "bad.head()"
   ]
  },
  {
   "cell_type": "markdown",
   "metadata": {},
   "source": [
    "## Group reviews by hotel ID"
   ]
  },
  {
   "cell_type": "code",
   "execution_count": 160,
   "metadata": {},
   "outputs": [],
   "source": [
    "grouped_good=good.groupby(['hotel_ID','review_category']).count().drop(['User_ID','Description'],axis=1)[['Is_Response']].rename(columns={'Is_Response':'review_count'})\n",
    "\n"
   ]
  },
  {
   "cell_type": "code",
   "execution_count": 161,
   "metadata": {},
   "outputs": [
    {
     "data": {
      "text/html": [
       "<div>\n",
       "<style scoped>\n",
       "    .dataframe tbody tr th:only-of-type {\n",
       "        vertical-align: middle;\n",
       "    }\n",
       "\n",
       "    .dataframe tbody tr th {\n",
       "        vertical-align: top;\n",
       "    }\n",
       "\n",
       "    .dataframe thead th {\n",
       "        text-align: right;\n",
       "    }\n",
       "</style>\n",
       "<table border=\"1\" class=\"dataframe\">\n",
       "  <thead>\n",
       "    <tr style=\"text-align: right;\">\n",
       "      <th></th>\n",
       "      <th></th>\n",
       "      <th>review_count</th>\n",
       "    </tr>\n",
       "    <tr>\n",
       "      <th>hotel_ID</th>\n",
       "      <th>review_category</th>\n",
       "      <th></th>\n",
       "    </tr>\n",
       "  </thead>\n",
       "  <tbody>\n",
       "    <tr>\n",
       "      <th rowspan=\"6\" valign=\"top\">1</th>\n",
       "      <th>Food</th>\n",
       "      <td>53</td>\n",
       "    </tr>\n",
       "    <tr>\n",
       "      <th>Location</th>\n",
       "      <td>515</td>\n",
       "    </tr>\n",
       "    <tr>\n",
       "      <th>Parking/Transportation</th>\n",
       "      <td>501</td>\n",
       "    </tr>\n",
       "    <tr>\n",
       "      <th>Room Quality</th>\n",
       "      <td>321</td>\n",
       "    </tr>\n",
       "    <tr>\n",
       "      <th>Service Quality</th>\n",
       "      <td>162</td>\n",
       "    </tr>\n",
       "    <tr>\n",
       "      <th>Special Event Services</th>\n",
       "      <td>627</td>\n",
       "    </tr>\n",
       "    <tr>\n",
       "      <th rowspan=\"4\" valign=\"top\">2</th>\n",
       "      <th>Food</th>\n",
       "      <td>32</td>\n",
       "    </tr>\n",
       "    <tr>\n",
       "      <th>Location</th>\n",
       "      <td>245</td>\n",
       "    </tr>\n",
       "    <tr>\n",
       "      <th>Parking/Transportation</th>\n",
       "      <td>252</td>\n",
       "    </tr>\n",
       "    <tr>\n",
       "      <th>Room Quality</th>\n",
       "      <td>147</td>\n",
       "    </tr>\n",
       "  </tbody>\n",
       "</table>\n",
       "</div>"
      ],
      "text/plain": [
       "                                 review_count\n",
       "hotel_ID review_category                     \n",
       "1        Food                              53\n",
       "         Location                         515\n",
       "         Parking/Transportation           501\n",
       "         Room Quality                     321\n",
       "         Service Quality                  162\n",
       "         Special Event Services           627\n",
       "2        Food                              32\n",
       "         Location                         245\n",
       "         Parking/Transportation           252\n",
       "         Room Quality                     147"
      ]
     },
     "execution_count": 161,
     "metadata": {},
     "output_type": "execute_result"
    }
   ],
   "source": [
    "grouped_good.head(10)"
   ]
  },
  {
   "cell_type": "code",
   "execution_count": 162,
   "metadata": {},
   "outputs": [
    {
     "data": {
      "text/html": [
       "<div>\n",
       "<style scoped>\n",
       "    .dataframe tbody tr th:only-of-type {\n",
       "        vertical-align: middle;\n",
       "    }\n",
       "\n",
       "    .dataframe tbody tr th {\n",
       "        vertical-align: top;\n",
       "    }\n",
       "\n",
       "    .dataframe thead th {\n",
       "        text-align: right;\n",
       "    }\n",
       "</style>\n",
       "<table border=\"1\" class=\"dataframe\">\n",
       "  <thead>\n",
       "    <tr style=\"text-align: right;\">\n",
       "      <th></th>\n",
       "      <th></th>\n",
       "      <th>review_count</th>\n",
       "    </tr>\n",
       "    <tr>\n",
       "      <th>hotel_ID</th>\n",
       "      <th>review_category</th>\n",
       "      <th></th>\n",
       "    </tr>\n",
       "  </thead>\n",
       "  <tbody>\n",
       "    <tr>\n",
       "      <th rowspan=\"6\" valign=\"top\">1</th>\n",
       "      <th>Food</th>\n",
       "      <td>20</td>\n",
       "    </tr>\n",
       "    <tr>\n",
       "      <th>Location</th>\n",
       "      <td>200</td>\n",
       "    </tr>\n",
       "    <tr>\n",
       "      <th>Parking/Transportation</th>\n",
       "      <td>127</td>\n",
       "    </tr>\n",
       "    <tr>\n",
       "      <th>Room Quality</th>\n",
       "      <td>607</td>\n",
       "    </tr>\n",
       "    <tr>\n",
       "      <th>Service Quality</th>\n",
       "      <td>747</td>\n",
       "    </tr>\n",
       "    <tr>\n",
       "      <th>Special Event Services</th>\n",
       "      <td>49</td>\n",
       "    </tr>\n",
       "    <tr>\n",
       "      <th rowspan=\"4\" valign=\"top\">2</th>\n",
       "      <th>Food</th>\n",
       "      <td>11</td>\n",
       "    </tr>\n",
       "    <tr>\n",
       "      <th>Location</th>\n",
       "      <td>94</td>\n",
       "    </tr>\n",
       "    <tr>\n",
       "      <th>Parking/Transportation</th>\n",
       "      <td>96</td>\n",
       "    </tr>\n",
       "    <tr>\n",
       "      <th>Room Quality</th>\n",
       "      <td>344</td>\n",
       "    </tr>\n",
       "  </tbody>\n",
       "</table>\n",
       "</div>"
      ],
      "text/plain": [
       "                                 review_count\n",
       "hotel_ID review_category                     \n",
       "1        Food                              20\n",
       "         Location                         200\n",
       "         Parking/Transportation           127\n",
       "         Room Quality                     607\n",
       "         Service Quality                  747\n",
       "         Special Event Services            49\n",
       "2        Food                              11\n",
       "         Location                          94\n",
       "         Parking/Transportation            96\n",
       "         Room Quality                     344"
      ]
     },
     "execution_count": 162,
     "metadata": {},
     "output_type": "execute_result"
    }
   ],
   "source": [
    "grouped_bad=bad.groupby(['hotel_ID','review_category']).count().drop(['User_ID','Description'],axis=1)[['Is_Response']].rename(columns={'Is_Response':'review_count'})\n",
    "grouped_bad.head(10)"
   ]
  },
  {
   "cell_type": "code",
   "execution_count": 163,
   "metadata": {},
   "outputs": [],
   "source": [
    "all_reviews = grouped_good.merge(grouped_bad, left_index=True, right_index=True, suffixes=('_good','_bad'))"
   ]
  },
  {
   "cell_type": "code",
   "execution_count": 164,
   "metadata": {},
   "outputs": [],
   "source": [
    "all_reviews['bad_to_good_ratio'] = all_reviews['review_count_bad'] / all_reviews['review_count_good']"
   ]
  },
  {
   "cell_type": "code",
   "execution_count": 165,
   "metadata": {},
   "outputs": [
    {
     "data": {
      "text/html": [
       "<div>\n",
       "<style scoped>\n",
       "    .dataframe tbody tr th:only-of-type {\n",
       "        vertical-align: middle;\n",
       "    }\n",
       "\n",
       "    .dataframe tbody tr th {\n",
       "        vertical-align: top;\n",
       "    }\n",
       "\n",
       "    .dataframe thead th {\n",
       "        text-align: right;\n",
       "    }\n",
       "</style>\n",
       "<table border=\"1\" class=\"dataframe\">\n",
       "  <thead>\n",
       "    <tr style=\"text-align: right;\">\n",
       "      <th></th>\n",
       "      <th></th>\n",
       "      <th>review_count_good</th>\n",
       "      <th>review_count_bad</th>\n",
       "      <th>bad_to_good_ratio</th>\n",
       "    </tr>\n",
       "    <tr>\n",
       "      <th>hotel_ID</th>\n",
       "      <th>review_category</th>\n",
       "      <th></th>\n",
       "      <th></th>\n",
       "      <th></th>\n",
       "    </tr>\n",
       "  </thead>\n",
       "  <tbody>\n",
       "    <tr>\n",
       "      <th rowspan=\"6\" valign=\"top\">10</th>\n",
       "      <th>Food</th>\n",
       "      <td>30</td>\n",
       "      <td>4</td>\n",
       "      <td>0.133333</td>\n",
       "    </tr>\n",
       "    <tr>\n",
       "      <th>Location</th>\n",
       "      <td>193</td>\n",
       "      <td>78</td>\n",
       "      <td>0.404145</td>\n",
       "    </tr>\n",
       "    <tr>\n",
       "      <th>Parking/Transportation</th>\n",
       "      <td>166</td>\n",
       "      <td>60</td>\n",
       "      <td>0.361446</td>\n",
       "    </tr>\n",
       "    <tr>\n",
       "      <th>Room Quality</th>\n",
       "      <td>129</td>\n",
       "      <td>245</td>\n",
       "      <td>1.899225</td>\n",
       "    </tr>\n",
       "    <tr>\n",
       "      <th>Service Quality</th>\n",
       "      <td>65</td>\n",
       "      <td>322</td>\n",
       "      <td>4.953846</td>\n",
       "    </tr>\n",
       "    <tr>\n",
       "      <th>Special Event Services</th>\n",
       "      <td>194</td>\n",
       "      <td>25</td>\n",
       "      <td>0.128866</td>\n",
       "    </tr>\n",
       "  </tbody>\n",
       "</table>\n",
       "</div>"
      ],
      "text/plain": [
       "                                 review_count_good  review_count_bad  \\\n",
       "hotel_ID review_category                                               \n",
       "10       Food                                   30                 4   \n",
       "         Location                              193                78   \n",
       "         Parking/Transportation                166                60   \n",
       "         Room Quality                          129               245   \n",
       "         Service Quality                        65               322   \n",
       "         Special Event Services                194                25   \n",
       "\n",
       "                                 bad_to_good_ratio  \n",
       "hotel_ID review_category                            \n",
       "10       Food                             0.133333  \n",
       "         Location                         0.404145  \n",
       "         Parking/Transportation           0.361446  \n",
       "         Room Quality                     1.899225  \n",
       "         Service Quality                  4.953846  \n",
       "         Special Event Services           0.128866  "
      ]
     },
     "execution_count": 165,
     "metadata": {},
     "output_type": "execute_result"
    }
   ],
   "source": [
    "all_reviews.query('hotel_ID==10')"
   ]
  },
  {
   "cell_type": "code",
   "execution_count": 166,
   "metadata": {},
   "outputs": [
    {
     "data": {
      "text/html": [
       "<div>\n",
       "<style scoped>\n",
       "    .dataframe tbody tr th:only-of-type {\n",
       "        vertical-align: middle;\n",
       "    }\n",
       "\n",
       "    .dataframe tbody tr th {\n",
       "        vertical-align: top;\n",
       "    }\n",
       "\n",
       "    .dataframe thead th {\n",
       "        text-align: right;\n",
       "    }\n",
       "</style>\n",
       "<table border=\"1\" class=\"dataframe\">\n",
       "  <thead>\n",
       "    <tr style=\"text-align: right;\">\n",
       "      <th></th>\n",
       "      <th></th>\n",
       "      <th>review_count_good</th>\n",
       "      <th>review_count_bad</th>\n",
       "      <th>bad_to_good_ratio</th>\n",
       "    </tr>\n",
       "    <tr>\n",
       "      <th>hotel_ID</th>\n",
       "      <th>review_category</th>\n",
       "      <th></th>\n",
       "      <th></th>\n",
       "      <th></th>\n",
       "    </tr>\n",
       "  </thead>\n",
       "  <tbody>\n",
       "    <tr>\n",
       "      <th>1</th>\n",
       "      <th>Service Quality</th>\n",
       "      <td>162</td>\n",
       "      <td>747</td>\n",
       "      <td>4.611111</td>\n",
       "    </tr>\n",
       "    <tr>\n",
       "      <th rowspan=\"2\" valign=\"top\">2</th>\n",
       "      <th>Room Quality</th>\n",
       "      <td>147</td>\n",
       "      <td>344</td>\n",
       "      <td>2.340136</td>\n",
       "    </tr>\n",
       "    <tr>\n",
       "      <th>Service Quality</th>\n",
       "      <td>72</td>\n",
       "      <td>445</td>\n",
       "      <td>6.180556</td>\n",
       "    </tr>\n",
       "    <tr>\n",
       "      <th>3</th>\n",
       "      <th>Service Quality</th>\n",
       "      <td>252</td>\n",
       "      <td>730</td>\n",
       "      <td>2.896825</td>\n",
       "    </tr>\n",
       "    <tr>\n",
       "      <th>4</th>\n",
       "      <th>Service Quality</th>\n",
       "      <td>342</td>\n",
       "      <td>939</td>\n",
       "      <td>2.745614</td>\n",
       "    </tr>\n",
       "  </tbody>\n",
       "</table>\n",
       "</div>"
      ],
      "text/plain": [
       "                          review_count_good  review_count_bad  \\\n",
       "hotel_ID review_category                                        \n",
       "1        Service Quality                162               747   \n",
       "2        Room Quality                   147               344   \n",
       "         Service Quality                 72               445   \n",
       "3        Service Quality                252               730   \n",
       "4        Service Quality                342               939   \n",
       "\n",
       "                          bad_to_good_ratio  \n",
       "hotel_ID review_category                     \n",
       "1        Service Quality           4.611111  \n",
       "2        Room Quality              2.340136  \n",
       "         Service Quality           6.180556  \n",
       "3        Service Quality           2.896825  \n",
       "4        Service Quality           2.745614  "
      ]
     },
     "execution_count": 166,
     "metadata": {},
     "output_type": "execute_result"
    }
   ],
   "source": [
    "all_reviews.query('bad_to_good_ratio>2').head()"
   ]
  },
  {
   "cell_type": "markdown",
   "metadata": {},
   "source": [
    "# Ideas:  How to Improve\n",
    "\n",
    "1- Try to get a better labeled data, or manual review for testing purposes\n",
    "\n",
    "2- Instead of whole review, split into sentences and attribute multiple topics per review\n",
    "\n",
    "3- Run a sentiment analysis on the reviews first to attribute good/bad score to more granular scores\n",
    "\n",
    "4- Hyper parameter tuning: # of topics, alpha: Document-Topic Density and beta: Word-Topic Density\n",
    "\n",
    "5- Speed: Use another gensim model that enables multicore processing"
   ]
  },
  {
   "cell_type": "code",
   "execution_count": null,
   "metadata": {},
   "outputs": [],
   "source": []
  }
 ],
 "metadata": {
  "kernelspec": {
   "display_name": "Python 3",
   "language": "python",
   "name": "python3"
  },
  "language_info": {
   "codemirror_mode": {
    "name": "ipython",
    "version": 3
   },
   "file_extension": ".py",
   "mimetype": "text/x-python",
   "name": "python",
   "nbconvert_exporter": "python",
   "pygments_lexer": "ipython3",
   "version": "3.7.2"
  }
 },
 "nbformat": 4,
 "nbformat_minor": 2
}
